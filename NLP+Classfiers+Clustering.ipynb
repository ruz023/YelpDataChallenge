{
 "cells": [
  {
   "cell_type": "code",
   "execution_count": 1,
   "metadata": {},
   "outputs": [],
   "source": [
    "from typing import *\n",
    "\n",
    "import matplotlib.pyplot as plt\n",
    "import numpy as np\n",
    "import pandas as pd\n",
    "from sklearn.feature_extraction.text import TfidfVectorizer\n",
    "from sklearn.feature_extraction.text import CountVectorizer\n",
    "from sklearn.model_selection import train_test_split\n",
    "\n",
    "from sklearn.linear_model import LogisticRegression\n",
    "from sklearn.naive_bayes import MultinomialNB\n",
    "from sklearn.pipeline import make_pipeline\n",
    "\n",
    "from sklearn.metrics import confusion_matrix, classification_report\n",
    "\n",
    "%load_ext autoreload\n",
    "%autoreload 1\n",
    "%aimport helpers\n",
    "from helpers import get_top_values, get_bottom_values"
   ]
  },
  {
   "cell_type": "markdown",
   "metadata": {},
   "source": [
    "## Load data\n",
    "We will use the DataFrame constructed in `Data_Preprocessing.ipynb`. It contains reviews of restaurants from Las Vegas from approximately the last 2 years."
   ]
  },
  {
   "cell_type": "code",
   "execution_count": 2,
   "metadata": {},
   "outputs": [
    {
     "name": "stdout",
     "output_type": "stream",
     "text": [
      "<class 'pandas.core.frame.DataFrame'>\n",
      "RangeIndex: 124693 entries, 0 to 124692\n",
      "Data columns (total 15 columns):\n",
      " #   Column        Non-Null Count   Dtype  \n",
      "---  ------        --------------   -----  \n",
      " 0   Unnamed: 0    124693 non-null  int64  \n",
      " 1   business_id   124693 non-null  object \n",
      " 2   name          124693 non-null  object \n",
      " 3   postal_code   124690 non-null  float64\n",
      " 4   stars_x       124693 non-null  float64\n",
      " 5   review_count  124693 non-null  int64  \n",
      " 6   attributes    124487 non-null  object \n",
      " 7   review_id     124693 non-null  object \n",
      " 8   user_id       124693 non-null  object \n",
      " 9   stars_y       124693 non-null  float64\n",
      " 10  useful        124693 non-null  int64  \n",
      " 11  funny         124693 non-null  int64  \n",
      " 12  cool          124693 non-null  int64  \n",
      " 13  text          124693 non-null  object \n",
      " 14  date          124693 non-null  object \n",
      "dtypes: float64(3), int64(5), object(7)\n",
      "memory usage: 14.3+ MB\n"
     ]
    }
   ],
   "source": [
    "br = pd.read_csv('preprocessed.csv')\n",
    "br.info()"
   ]
  },
  {
   "cell_type": "code",
   "execution_count": 3,
   "metadata": {},
   "outputs": [
    {
     "data": {
      "text/html": [
       "<div>\n",
       "<style scoped>\n",
       "    .dataframe tbody tr th:only-of-type {\n",
       "        vertical-align: middle;\n",
       "    }\n",
       "\n",
       "    .dataframe tbody tr th {\n",
       "        vertical-align: top;\n",
       "    }\n",
       "\n",
       "    .dataframe thead th {\n",
       "        text-align: right;\n",
       "    }\n",
       "</style>\n",
       "<table border=\"1\" class=\"dataframe\">\n",
       "  <thead>\n",
       "    <tr style=\"text-align: right;\">\n",
       "      <th></th>\n",
       "      <th>Unnamed: 0</th>\n",
       "      <th>business_id</th>\n",
       "      <th>name</th>\n",
       "      <th>postal_code</th>\n",
       "      <th>stars_x</th>\n",
       "      <th>review_count</th>\n",
       "      <th>attributes</th>\n",
       "      <th>review_id</th>\n",
       "      <th>user_id</th>\n",
       "      <th>stars_y</th>\n",
       "      <th>useful</th>\n",
       "      <th>funny</th>\n",
       "      <th>cool</th>\n",
       "      <th>text</th>\n",
       "      <th>date</th>\n",
       "    </tr>\n",
       "  </thead>\n",
       "  <tbody>\n",
       "    <tr>\n",
       "      <th>0</th>\n",
       "      <td>0</td>\n",
       "      <td>AN0bWhisCf6LN9eHZ7DQ3w</td>\n",
       "      <td>Los Olivos Ristorante</td>\n",
       "      <td>89121.0</td>\n",
       "      <td>5.0</td>\n",
       "      <td>222</td>\n",
       "      <td>{'WiFi': \"u'free'\", 'RestaurantsPriceRange2': ...</td>\n",
       "      <td>htSvAB0GEPZOdvebmVqg4g</td>\n",
       "      <td>GgCjStvmclW9uedJa_tTlA</td>\n",
       "      <td>5.0</td>\n",
       "      <td>1</td>\n",
       "      <td>0</td>\n",
       "      <td>0</td>\n",
       "      <td>Very good restaurant, they have many choices a...</td>\n",
       "      <td>2018-09-03 02:54:29</td>\n",
       "    </tr>\n",
       "    <tr>\n",
       "      <th>1</th>\n",
       "      <td>1</td>\n",
       "      <td>AN0bWhisCf6LN9eHZ7DQ3w</td>\n",
       "      <td>Los Olivos Ristorante</td>\n",
       "      <td>89121.0</td>\n",
       "      <td>5.0</td>\n",
       "      <td>222</td>\n",
       "      <td>{'WiFi': \"u'free'\", 'RestaurantsPriceRange2': ...</td>\n",
       "      <td>yoXlN_RAJAVuhvR4lLs_nw</td>\n",
       "      <td>4CR7rQLHuXZpfLzDvqlaIA</td>\n",
       "      <td>5.0</td>\n",
       "      <td>0</td>\n",
       "      <td>1</td>\n",
       "      <td>1</td>\n",
       "      <td>Awsome little Italian place. Never would have ...</td>\n",
       "      <td>2018-06-19 17:20:53</td>\n",
       "    </tr>\n",
       "    <tr>\n",
       "      <th>2</th>\n",
       "      <td>2</td>\n",
       "      <td>AN0bWhisCf6LN9eHZ7DQ3w</td>\n",
       "      <td>Los Olivos Ristorante</td>\n",
       "      <td>89121.0</td>\n",
       "      <td>5.0</td>\n",
       "      <td>222</td>\n",
       "      <td>{'WiFi': \"u'free'\", 'RestaurantsPriceRange2': ...</td>\n",
       "      <td>sjGYJKxxNtKcFeZHwjfYLg</td>\n",
       "      <td>UkBp300T1dfvMK8BLq08qQ</td>\n",
       "      <td>5.0</td>\n",
       "      <td>0</td>\n",
       "      <td>0</td>\n",
       "      <td>0</td>\n",
       "      <td>We moved back to Vegas about a year ago and he...</td>\n",
       "      <td>2018-08-05 03:13:21</td>\n",
       "    </tr>\n",
       "    <tr>\n",
       "      <th>3</th>\n",
       "      <td>3</td>\n",
       "      <td>AN0bWhisCf6LN9eHZ7DQ3w</td>\n",
       "      <td>Los Olivos Ristorante</td>\n",
       "      <td>89121.0</td>\n",
       "      <td>5.0</td>\n",
       "      <td>222</td>\n",
       "      <td>{'WiFi': \"u'free'\", 'RestaurantsPriceRange2': ...</td>\n",
       "      <td>3ccPyWbmFfR8T-Ev3qQDcg</td>\n",
       "      <td>IyQGS915aIQcwPtSwKLI8w</td>\n",
       "      <td>5.0</td>\n",
       "      <td>0</td>\n",
       "      <td>0</td>\n",
       "      <td>0</td>\n",
       "      <td>We came to Los Olivos to have our Festa Di Nat...</td>\n",
       "      <td>2017-12-16 15:10:08</td>\n",
       "    </tr>\n",
       "    <tr>\n",
       "      <th>4</th>\n",
       "      <td>5</td>\n",
       "      <td>AN0bWhisCf6LN9eHZ7DQ3w</td>\n",
       "      <td>Los Olivos Ristorante</td>\n",
       "      <td>89121.0</td>\n",
       "      <td>5.0</td>\n",
       "      <td>222</td>\n",
       "      <td>{'WiFi': \"u'free'\", 'RestaurantsPriceRange2': ...</td>\n",
       "      <td>AtuHkK0K5EpYUSF1qhB8bw</td>\n",
       "      <td>nmhOSjQnKSytS-ztuGdIow</td>\n",
       "      <td>5.0</td>\n",
       "      <td>0</td>\n",
       "      <td>0</td>\n",
       "      <td>0</td>\n",
       "      <td>I don't normally yelp about places to eat, but...</td>\n",
       "      <td>2018-08-24 06:09:25</td>\n",
       "    </tr>\n",
       "  </tbody>\n",
       "</table>\n",
       "</div>"
      ],
      "text/plain": [
       "   Unnamed: 0             business_id                   name  postal_code  \\\n",
       "0           0  AN0bWhisCf6LN9eHZ7DQ3w  Los Olivos Ristorante      89121.0   \n",
       "1           1  AN0bWhisCf6LN9eHZ7DQ3w  Los Olivos Ristorante      89121.0   \n",
       "2           2  AN0bWhisCf6LN9eHZ7DQ3w  Los Olivos Ristorante      89121.0   \n",
       "3           3  AN0bWhisCf6LN9eHZ7DQ3w  Los Olivos Ristorante      89121.0   \n",
       "4           5  AN0bWhisCf6LN9eHZ7DQ3w  Los Olivos Ristorante      89121.0   \n",
       "\n",
       "   stars_x  review_count                                         attributes  \\\n",
       "0      5.0           222  {'WiFi': \"u'free'\", 'RestaurantsPriceRange2': ...   \n",
       "1      5.0           222  {'WiFi': \"u'free'\", 'RestaurantsPriceRange2': ...   \n",
       "2      5.0           222  {'WiFi': \"u'free'\", 'RestaurantsPriceRange2': ...   \n",
       "3      5.0           222  {'WiFi': \"u'free'\", 'RestaurantsPriceRange2': ...   \n",
       "4      5.0           222  {'WiFi': \"u'free'\", 'RestaurantsPriceRange2': ...   \n",
       "\n",
       "                review_id                 user_id  stars_y  useful  funny  \\\n",
       "0  htSvAB0GEPZOdvebmVqg4g  GgCjStvmclW9uedJa_tTlA      5.0       1      0   \n",
       "1  yoXlN_RAJAVuhvR4lLs_nw  4CR7rQLHuXZpfLzDvqlaIA      5.0       0      1   \n",
       "2  sjGYJKxxNtKcFeZHwjfYLg  UkBp300T1dfvMK8BLq08qQ      5.0       0      0   \n",
       "3  3ccPyWbmFfR8T-Ev3qQDcg  IyQGS915aIQcwPtSwKLI8w      5.0       0      0   \n",
       "4  AtuHkK0K5EpYUSF1qhB8bw  nmhOSjQnKSytS-ztuGdIow      5.0       0      0   \n",
       "\n",
       "   cool                                               text  \\\n",
       "0     0  Very good restaurant, they have many choices a...   \n",
       "1     1  Awsome little Italian place. Never would have ...   \n",
       "2     0  We moved back to Vegas about a year ago and he...   \n",
       "3     0  We came to Los Olivos to have our Festa Di Nat...   \n",
       "4     0  I don't normally yelp about places to eat, but...   \n",
       "\n",
       "                  date  \n",
       "0  2018-09-03 02:54:29  \n",
       "1  2018-06-19 17:20:53  \n",
       "2  2018-08-05 03:13:21  \n",
       "3  2017-12-16 15:10:08  \n",
       "4  2018-08-24 06:09:25  "
      ]
     },
     "execution_count": 3,
     "metadata": {},
     "output_type": "execute_result"
    }
   ],
   "source": [
    "br.head()"
   ]
  },
  {
   "cell_type": "code",
   "execution_count": 4,
   "metadata": {},
   "outputs": [],
   "source": [
    "linear = br[['stars_x','stars_y','review_count','useful','funny','cool']].corr()"
   ]
  },
  {
   "cell_type": "code",
   "execution_count": 5,
   "metadata": {},
   "outputs": [],
   "source": [
    "# sns.heatmap(linear)\n",
    "\n",
    "# plt.title(\"Linear Relations among Variables\")"
   ]
  },
  {
   "cell_type": "markdown",
   "metadata": {},
   "source": [
    "So the 'useful','funny' and 'cool' data have strong linear correlations with each other. This is not surprising considering that they are all indications of how many people liked any given post.\n",
    "Indicates that we can pick EITHER ONE to weigh the importance of each review."
   ]
  },
  {
   "cell_type": "code",
   "execution_count": 6,
   "metadata": {},
   "outputs": [
    {
     "data": {
      "text/plain": [
       "Text(0, 0.5, 'Number of Reviews')"
      ]
     },
     "execution_count": 6,
     "metadata": {},
     "output_type": "execute_result"
    },
    {
     "data": {
      "image/png": "[encoded data removed]",
      "text/plain": [
       "<Figure size 432x288 with 1 Axes>"
      ]
     },
     "metadata": {
      "needs_background": "light"
     },
     "output_type": "display_data"
    }
   ],
   "source": [
    "br.stars_x.value_counts().sort_index().plot.bar()\n",
    "\n",
    "plt.title('Number of Reviews grouped by Each Rating Levels')\n",
    "plt.xlabel('Average Rating')\n",
    "plt.ylabel('Number of Reviews')"
   ]
  },
  {
   "cell_type": "markdown",
   "metadata": {},
   "source": [
    "So reviews are concentrated around 4.0 rating\n",
    "It shows that users generally refrain from giving extreme reviews, good or bad"
   ]
  },
  {
   "cell_type": "markdown",
   "metadata": {},
   "source": [
    "Now that we have some idea of what the data looks like, we can start the NLP part of this project"
   ]
  },
  {
   "cell_type": "markdown",
   "metadata": {},
   "source": [
    "# NLP"
   ]
  },
  {
   "cell_type": "markdown",
   "metadata": {},
   "source": [
    "## Extract review texts\n",
    "\n",
    "Convert the values of the 'text' column into a variable called \"documents\""
   ]
  },
  {
   "cell_type": "code",
   "execution_count": 7,
   "metadata": {},
   "outputs": [],
   "source": [
    "documents = br.text"
   ]
  },
  {
   "cell_type": "markdown",
   "metadata": {},
   "source": [
    "We can then explore this variable(e.g. check lengths of reviews)"
   ]
  },
  {
   "cell_type": "code",
   "execution_count": 8,
   "metadata": {},
   "outputs": [
    {
     "data": {
      "text/plain": [
       "Text(0.5, 0, 'Length of Reviews(characters)')"
      ]
     },
     "execution_count": 8,
     "metadata": {},
     "output_type": "execute_result"
    },
    {
     "data": {
      "image/png": "[encoded data removed]",
      "text/plain": [
       "<Figure size 432x288 with 1 Axes>"
      ]
     },
     "metadata": {
      "needs_background": "light"
     },
     "output_type": "display_data"
    }
   ],
   "source": [
    "plt.hist(documents.apply(len))\n",
    "plt.title('Review Length Distribution')\n",
    "plt.ylabel('Number of Reviews')\n",
    "plt.xlabel('Length of Reviews(characters)')"
   ]
  },
  {
   "cell_type": "code",
   "execution_count": 9,
   "metadata": {},
   "outputs": [
    {
     "name": "stdout",
     "output_type": "stream",
     "text": [
      "There are 124693 reviews in total.\n",
      "Sample:Very good restaurant, they have many choices and they are willing to meet your needs.\n",
      "We are vegan and we were with a big party of omnivores, but they had no problem to cook something just for us.\n"
     ]
    }
   ],
   "source": [
    "print('There are {} reviews in total.'.format(len(documents)))\n",
    "print('Sample:{}'.format(documents[0]))"
   ]
  },
  {
   "cell_type": "markdown",
   "metadata": {},
   "source": [
    "## Define Target Variable\n",
    "\n",
    "We chose to distinguish between perfect (5 stars) and imperfect (1-4 stars) ratings. The assumption is that any rating under a 5 indicates that there is room for improvement."
   ]
  },
  {
   "cell_type": "code",
   "execution_count": 10,
   "metadata": {},
   "outputs": [],
   "source": [
    "target = br.stars_y\n",
    "target = (target == 5) #Returns True if perfect\n",
    "target = target.astype('int')"
   ]
  },
  {
   "cell_type": "code",
   "execution_count": 11,
   "metadata": {},
   "outputs": [
    {
     "data": {
      "text/plain": [
       "1    67160\n",
       "0    57533\n",
       "Name: stars_y, dtype: int64"
      ]
     },
     "execution_count": 11,
     "metadata": {},
     "output_type": "execute_result"
    }
   ],
   "source": [
    "target.value_counts()"
   ]
  },
  {
   "cell_type": "markdown",
   "metadata": {},
   "source": [
    "Fortunately, target variable is not too imbalanced"
   ]
  },
  {
   "cell_type": "markdown",
   "metadata": {},
   "source": [
    "## Split data into training and test sets"
   ]
  },
  {
   "cell_type": "code",
   "execution_count": 12,
   "metadata": {},
   "outputs": [],
   "source": [
    "from sklearn.model_selection import train_test_split\n",
    "\n",
    "documents_train,documents_test,target_train,target_test = train_test_split(documents,target,test_size=0.2,random_state = 49)"
   ]
  },
  {
   "cell_type": "markdown",
   "metadata": {},
   "source": [
    "## Obtain NLP representation of `documents`\n",
    "\n",
    "Here I will tokenize reviews as unigrams, and convert each review to a term frequency–inverse document frequency (Tf-idf) vector."
   ]
  },
  {
   "cell_type": "code",
   "execution_count": 13,
   "metadata": {},
   "outputs": [
    {
     "name": "stdout",
     "output_type": "stream",
     "text": [
      "['i', 'me', 'my', 'myself', 'we', 'our', 'ours', 'ourselves', 'you', \"you're\", \"you've\", \"you'll\", \"you'd\", 'your', 'yours', 'yourself', 'yourselves', 'he', 'him', 'his', 'himself', 'she', \"she's\", 'her', 'hers', 'herself', 'it', \"it's\", 'its', 'itself', 'they', 'them', 'their', 'theirs', 'themselves', 'what', 'which', 'who', 'whom', 'this', 'that', \"that'll\", 'these', 'those', 'am', 'is', 'are', 'was', 'were', 'be', 'been', 'being', 'have', 'has', 'had', 'having', 'do', 'does', 'did', 'doing', 'a', 'an', 'the', 'and', 'but', 'if', 'or', 'because', 'as', 'until', 'while', 'of', 'at', 'by', 'for', 'with', 'about', 'against', 'between', 'into', 'through', 'during', 'before', 'after', 'above', 'below', 'to', 'from', 'up', 'down', 'in', 'out', 'on', 'off', 'over', 'under', 'again', 'further', 'then', 'once', 'here', 'there', 'when', 'where', 'why', 'how', 'all', 'any', 'both', 'each', 'few', 'more', 'most', 'other', 'some', 'such', 'no', 'nor', 'not', 'only', 'own', 'same', 'so', 'than', 'too', 'very', 's', 't', 'can', 'will', 'just', 'don', \"don't\", 'should', \"should've\", 'now', 'd', 'll', 'm', 'o', 're', 've', 'y', 'ain', 'aren', \"aren't\", 'couldn', \"couldn't\", 'didn', \"didn't\", 'doesn', \"doesn't\", 'hadn', \"hadn't\", 'hasn', \"hasn't\", 'haven', \"haven't\", 'isn', \"isn't\", 'ma', 'mightn', \"mightn't\", 'mustn', \"mustn't\", 'needn', \"needn't\", 'shan', \"shan't\", 'shouldn', \"shouldn't\", 'wasn', \"wasn't\", 'weren', \"weren't\", 'won', \"won't\", 'wouldn', \"wouldn't\"]\n"
     ]
    },
    {
     "name": "stderr",
     "output_type": "stream",
     "text": [
      "[nltk_data] Downloading package stopwords to /home/jovyan/nltk_data...\n",
      "[nltk_data]   Package stopwords is already up-to-date!\n"
     ]
    }
   ],
   "source": [
    "import nltk\n",
    "nltk.download('stopwords')\n",
    "\n",
    "from nltk.corpus import stopwords\n",
    "print(stopwords.words('english'))"
   ]
  },
  {
   "cell_type": "code",
   "execution_count": 14,
   "metadata": {},
   "outputs": [],
   "source": [
    "def get_n_most_frequent_tokens(reviews: Iterable[str], \n",
    "                               n: int = 20, \n",
    "                               max_df: float = 0.98) -> Iterable[Tuple[str, int]]:\n",
    "    \"\"\" Get the n-most frequent unigrams, given a document-frequency cap \"\"\"\n",
    "    \n",
    "    count_vec = CountVectorizer(max_df=max_df)\n",
    "    per_token_counts = np.asarray(count_vec.fit_transform(reviews).sum(axis=0))[0]\n",
    "    ix_to_token = {ix:tk for tk, ix in count_vec.vocabulary_.items()}\n",
    "        \n",
    "    i = 0    \n",
    "    for token_ix in reversed(np.argsort(per_token_counts)):\n",
    "        if i < n:\n",
    "            i += 1\n",
    "            yield ix_to_token[token_ix], per_token_counts[token_ix]"
   ]
  },
  {
   "cell_type": "code",
   "execution_count": 15,
   "metadata": {},
   "outputs": [
    {
     "data": {
      "text/html": [
       "<div>\n",
       "<style scoped>\n",
       "    .dataframe tbody tr th:only-of-type {\n",
       "        vertical-align: middle;\n",
       "    }\n",
       "\n",
       "    .dataframe tbody tr th {\n",
       "        vertical-align: top;\n",
       "    }\n",
       "\n",
       "    .dataframe thead th {\n",
       "        text-align: right;\n",
       "    }\n",
       "</style>\n",
       "<table border=\"1\" class=\"dataframe\">\n",
       "  <thead>\n",
       "    <tr style=\"text-align: right;\">\n",
       "      <th></th>\n",
       "      <th>tokens</th>\n",
       "      <th>counts</th>\n",
       "    </tr>\n",
       "  </thead>\n",
       "  <tbody>\n",
       "    <tr>\n",
       "      <th>0</th>\n",
       "      <td>the</td>\n",
       "      <td>484784</td>\n",
       "    </tr>\n",
       "    <tr>\n",
       "      <th>1</th>\n",
       "      <td>and</td>\n",
       "      <td>336209</td>\n",
       "    </tr>\n",
       "    <tr>\n",
       "      <th>2</th>\n",
       "      <td>to</td>\n",
       "      <td>204453</td>\n",
       "    </tr>\n",
       "    <tr>\n",
       "      <th>3</th>\n",
       "      <td>was</td>\n",
       "      <td>200725</td>\n",
       "    </tr>\n",
       "    <tr>\n",
       "      <th>4</th>\n",
       "      <td>it</td>\n",
       "      <td>145639</td>\n",
       "    </tr>\n",
       "    <tr>\n",
       "      <th>5</th>\n",
       "      <td>of</td>\n",
       "      <td>122077</td>\n",
       "    </tr>\n",
       "    <tr>\n",
       "      <th>6</th>\n",
       "      <td>is</td>\n",
       "      <td>113547</td>\n",
       "    </tr>\n",
       "    <tr>\n",
       "      <th>7</th>\n",
       "      <td>for</td>\n",
       "      <td>107628</td>\n",
       "    </tr>\n",
       "    <tr>\n",
       "      <th>8</th>\n",
       "      <td>we</td>\n",
       "      <td>106687</td>\n",
       "    </tr>\n",
       "    <tr>\n",
       "      <th>9</th>\n",
       "      <td>in</td>\n",
       "      <td>93649</td>\n",
       "    </tr>\n",
       "    <tr>\n",
       "      <th>10</th>\n",
       "      <td>this</td>\n",
       "      <td>82027</td>\n",
       "    </tr>\n",
       "    <tr>\n",
       "      <th>11</th>\n",
       "      <td>my</td>\n",
       "      <td>79225</td>\n",
       "    </tr>\n",
       "    <tr>\n",
       "      <th>12</th>\n",
       "      <td>food</td>\n",
       "      <td>75311</td>\n",
       "    </tr>\n",
       "    <tr>\n",
       "      <th>13</th>\n",
       "      <td>with</td>\n",
       "      <td>74031</td>\n",
       "    </tr>\n",
       "    <tr>\n",
       "      <th>14</th>\n",
       "      <td>but</td>\n",
       "      <td>70775</td>\n",
       "    </tr>\n",
       "    <tr>\n",
       "      <th>15</th>\n",
       "      <td>you</td>\n",
       "      <td>70099</td>\n",
       "    </tr>\n",
       "    <tr>\n",
       "      <th>16</th>\n",
       "      <td>that</td>\n",
       "      <td>69543</td>\n",
       "    </tr>\n",
       "    <tr>\n",
       "      <th>17</th>\n",
       "      <td>they</td>\n",
       "      <td>67430</td>\n",
       "    </tr>\n",
       "    <tr>\n",
       "      <th>18</th>\n",
       "      <td>on</td>\n",
       "      <td>59797</td>\n",
       "    </tr>\n",
       "    <tr>\n",
       "      <th>19</th>\n",
       "      <td>had</td>\n",
       "      <td>59128</td>\n",
       "    </tr>\n",
       "    <tr>\n",
       "      <th>20</th>\n",
       "      <td>were</td>\n",
       "      <td>58345</td>\n",
       "    </tr>\n",
       "    <tr>\n",
       "      <th>21</th>\n",
       "      <td>so</td>\n",
       "      <td>57614</td>\n",
       "    </tr>\n",
       "    <tr>\n",
       "      <th>22</th>\n",
       "      <td>not</td>\n",
       "      <td>54912</td>\n",
       "    </tr>\n",
       "    <tr>\n",
       "      <th>23</th>\n",
       "      <td>good</td>\n",
       "      <td>52046</td>\n",
       "    </tr>\n",
       "    <tr>\n",
       "      <th>24</th>\n",
       "      <td>have</td>\n",
       "      <td>47758</td>\n",
       "    </tr>\n",
       "    <tr>\n",
       "      <th>25</th>\n",
       "      <td>place</td>\n",
       "      <td>47730</td>\n",
       "    </tr>\n",
       "    <tr>\n",
       "      <th>26</th>\n",
       "      <td>great</td>\n",
       "      <td>43978</td>\n",
       "    </tr>\n",
       "    <tr>\n",
       "      <th>27</th>\n",
       "      <td>at</td>\n",
       "      <td>43260</td>\n",
       "    </tr>\n",
       "    <tr>\n",
       "      <th>28</th>\n",
       "      <td>our</td>\n",
       "      <td>42666</td>\n",
       "    </tr>\n",
       "    <tr>\n",
       "      <th>29</th>\n",
       "      <td>service</td>\n",
       "      <td>41607</td>\n",
       "    </tr>\n",
       "  </tbody>\n",
       "</table>\n",
       "</div>"
      ],
      "text/plain": [
       "     tokens  counts\n",
       "0       the  484784\n",
       "1       and  336209\n",
       "2        to  204453\n",
       "3       was  200725\n",
       "4        it  145639\n",
       "5        of  122077\n",
       "6        is  113547\n",
       "7       for  107628\n",
       "8        we  106687\n",
       "9        in   93649\n",
       "10     this   82027\n",
       "11       my   79225\n",
       "12     food   75311\n",
       "13     with   74031\n",
       "14      but   70775\n",
       "15      you   70099\n",
       "16     that   69543\n",
       "17     they   67430\n",
       "18       on   59797\n",
       "19      had   59128\n",
       "20     were   58345\n",
       "21       so   57614\n",
       "22      not   54912\n",
       "23     good   52046\n",
       "24     have   47758\n",
       "25    place   47730\n",
       "26    great   43978\n",
       "27       at   43260\n",
       "28      our   42666\n",
       "29  service   41607"
      ]
     },
     "execution_count": 15,
     "metadata": {},
     "output_type": "execute_result"
    }
   ],
   "source": [
    "top_n_words = pd.DataFrame(get_n_most_frequent_tokens(documents_train, 30, 0.98), \n",
    "                           columns=[\"tokens\", \"counts\"])\n",
    "top_n_words"
   ]
  },
  {
   "cell_type": "markdown",
   "metadata": {},
   "source": [
    "23rd token is 'good'; 26th is great: clearly relevant to sentiment, gotta keep"
   ]
  },
  {
   "cell_type": "code",
   "execution_count": 17,
   "metadata": {},
   "outputs": [],
   "source": [
    "rev_stop_words = top_n_words[\"tokens\"].iloc[0:22].values\n",
    "\n",
    "all_stop_words = ['i', 'me', 'my', 'myself', 'we', 'our', 'ours', 'ourselves', 'you', \"you're\", \"you've\", \"you'll\", \"you'd\", 'your', 'yours', 'yourself', \n",
    "                  'yourselves', 'he', 'him', 'his', 'himself', 'she', \"she's\", 'her', 'hers', 'herself', 'it', \"it's\", 'its', 'itself', 'they', 'them', \n",
    "                  'their', 'theirs', 'themselves', 'what', 'which', 'who', 'whom', 'this', 'that', \"that'll\", 'these', 'those', 'am', 'is', 'are', 'was',\n",
    "                  'were', 'be', 'been', 'being', 'have', 'has', 'had', 'having', 'do', 'does', 'did', 'doing', 'a', 'an', 'the', 'and', 'but', 'if', 'or', \n",
    "                  'because', 'as', 'until', 'while', 'of', 'at', 'by', 'for', 'with', 'about', 'against', 'between', 'into', 'through', 'during', 'before', \n",
    "                  'after', 'above', 'below', 'to', 'from', 'up', 'down', 'in', 'out', 'on', 'off', 'over', 'under', 'again', 'further', 'then', 'once', \n",
    "                  'here', 'there', 'when', 'where', 'why', 'how', 'all', 'any', 'both', 'each', 'few', 'more', 'most', 'other', 'some', 'such', 'no', \n",
    "                  'nor', 'not', 'only', 'own', 'same', 'so', 'than', 'too', 'very', 's', 't', 'can', 'will', 'just', 'don', \"don't\", 'should', \n",
    "                  \"should've\", 'now', 'd', 'll', 'm', 'o', 're', 've', 'y', 'ain', 'aren', \"aren't\", 'couldn', \"couldn't\", 'didn', \"didn't\", \n",
    "                  'doesn', \"doesn't\", 'hadn', \"hadn't\", 'hasn', \"hasn't\", 'haven', \"haven't\", 'isn', \"isn't\", 'ma', 'mightn', \"mightn't\", \n",
    "                  'mustn', \"mustn't\", 'needn', \"needn't\", 'shan', \"shan't\", 'shouldn', \"shouldn't\", 'wasn', \"wasn't\", 'weren', \"weren't\", 'won', \"won't\", \n",
    "                  'wouldn', \"wouldn't\"] + rev_stop_words.tolist()"
   ]
  },
  {
   "cell_type": "code",
   "execution_count": 150,
   "metadata": {},
   "outputs": [],
   "source": [
    "# Create TfidfVectorizer, and name it vectorizer\n",
    "vectorizer = TfidfVectorizer(lowercase=True, stop_words=all_stop_words, \n",
    "                             max_df=0.9, ngram_range=(1,2), min_df=0.01)"
   ]
  },
  {
   "cell_type": "code",
   "execution_count": 151,
   "metadata": {},
   "outputs": [],
   "source": [
    "# Fit the vectorizer with training data\n",
    "X_train = vectorizer.fit_transform(documents_train)\n",
    "\n",
    "# Use the trained vectorizer to transform test data\n",
    "X_test = vectorizer.transform(documents_test)"
   ]
  },
  {
   "cell_type": "code",
   "execution_count": 152,
   "metadata": {},
   "outputs": [
    {
     "data": {
      "text/plain": [
       "806"
      ]
     },
     "execution_count": 152,
     "metadata": {},
     "output_type": "execute_result"
    }
   ],
   "source": [
    "X_train.shape[1]"
   ]
  },
  {
   "cell_type": "code",
   "execution_count": 153,
   "metadata": {},
   "outputs": [
    {
     "name": "stdout",
     "output_type": "stream",
     "text": [
      "Vocabulary contains 806 words when using unigram\n"
     ]
    }
   ],
   "source": [
    "#Get vocab of tfidf\n",
    "tokens_to_ix = vectorizer.vocabulary_\n",
    "ix_to_tokens = {ix:token for token, ix in tokens_to_ix.items()}\n",
    "\n",
    "#print(vocab) #{words:column number}\n",
    "#Get count of total vocabs\n",
    "print('Vocabulary contains {} words when using unigram'.format(len(tokens_to_ix)))"
   ]
  },
  {
   "cell_type": "markdown",
   "metadata": {},
   "source": [
    "## Classify positive/negative review\n",
    "\n",
    "Three classification models attempted:\n",
    "\n",
    "1. Logistic regression: coefficients are easy to interpret. Would help us understand the language.\n",
    "2. naive Bayes classifier: Training and running are very quick, and performs reasonably well\n",
    "3. Random Forest: build and tune more complex model for even higher accuracy\n",
    "\n",
    "We use accuracy as our metric, because the classes are almost balanced"
   ]
  },
  {
   "cell_type": "code",
   "execution_count": 154,
   "metadata": {},
   "outputs": [
    {
     "data": {
      "text/plain": [
       "LogisticRegression(max_iter=200)"
      ]
     },
     "execution_count": 154,
     "metadata": {},
     "output_type": "execute_result"
    }
   ],
   "source": [
    "#Logistic Regression: no parameters to tune, because classes are almost balanced\n",
    "\n",
    "from sklearn.linear_model import LogisticRegression\n",
    "\n",
    "lr_clf = LogisticRegression(solver='lbfgs',max_iter=200) #lbfgs is for multinominal classifcation\n",
    "lr_clf.fit(X_train, target_train)"
   ]
  },
  {
   "cell_type": "code",
   "execution_count": 155,
   "metadata": {},
   "outputs": [
    {
     "data": {
      "text/plain": [
       "0.8449786474727831"
      ]
     },
     "execution_count": 155,
     "metadata": {},
     "output_type": "execute_result"
    }
   ],
   "source": [
    "#Mean accuracy for training set\n",
    "lr_clf.score(X_train, target_train)"
   ]
  },
  {
   "cell_type": "code",
   "execution_count": 156,
   "metadata": {},
   "outputs": [
    {
     "data": {
      "text/plain": [
       "0.8361201331248246"
      ]
     },
     "execution_count": 156,
     "metadata": {},
     "output_type": "execute_result"
    }
   ],
   "source": [
    "#Mean accuracy for test set\n",
    "lr_clf.score(X_test, target_test)"
   ]
  },
  {
   "cell_type": "markdown",
   "metadata": {},
   "source": [
    "This is a pretty good accuracy score (above 80%) for such a simple model. Even though the classes are mostly balanced, we will check errors and F1 score just in case."
   ]
  },
  {
   "cell_type": "code",
   "execution_count": 157,
   "metadata": {},
   "outputs": [
    {
     "data": {
      "text/plain": [
       "array([[0.80109489, 0.19890511],\n",
       "       [0.13386941, 0.86613059]])"
      ]
     },
     "execution_count": 157,
     "metadata": {},
     "output_type": "execute_result"
    }
   ],
   "source": [
    "confusion_matrix(target_test,lr_clf.predict(X_test),normalize='true')"
   ]
  },
  {
   "cell_type": "code",
   "execution_count": 158,
   "metadata": {},
   "outputs": [
    {
     "name": "stdout",
     "output_type": "stream",
     "text": [
      "              precision    recall  f1-score   support\n",
      "\n",
      "   Imperfect       0.84      0.80      0.82     11508\n",
      "     Perfect       0.84      0.87      0.85     13431\n",
      "\n",
      "    accuracy                           0.84     24939\n",
      "   macro avg       0.84      0.83      0.83     24939\n",
      "weighted avg       0.84      0.84      0.84     24939\n",
      "\n"
     ]
    }
   ],
   "source": [
    "print(classification_report(target_test, lr_clf.predict(X_test), target_names=(\"Imperfect\", \"Perfect\")))"
   ]
  },
  {
   "cell_type": "markdown",
   "metadata": {},
   "source": [
    "Precision, recall, f1-score all above 80%. Awesome!"
   ]
  },
  {
   "cell_type": "markdown",
   "metadata": {},
   "source": [
    "#### (Multinomial) Naive Bayes Classifier\n",
    "Technically multinomial naive Bayes should be fed integer features, but according to [sklearn's documentation](https://scikit-learn.org/stable/modules/generated/sklearn.naive_bayes.MultinomialNB.html) fractional tf-idf values work in practice, too. "
   ]
  },
  {
   "cell_type": "code",
   "execution_count": 159,
   "metadata": {},
   "outputs": [
    {
     "data": {
      "text/plain": [
       "MultinomialNB()"
      ]
     },
     "execution_count": 159,
     "metadata": {},
     "output_type": "execute_result"
    }
   ],
   "source": [
    "from sklearn.naive_bayes import MultinomialNB\n",
    "\n",
    "nb_clf = MultinomialNB(alpha=1.0, fit_prior=True)\n",
    "nb_clf.fit(X_train, target_train)"
   ]
  },
  {
   "cell_type": "code",
   "execution_count": 160,
   "metadata": {},
   "outputs": [
    {
     "data": {
      "text/plain": [
       "0.8200773903803357"
      ]
     },
     "execution_count": 160,
     "metadata": {},
     "output_type": "execute_result"
    }
   ],
   "source": [
    "#Accuracy for training set\n",
    "nb_clf.score(X_train, target_train)"
   ]
  },
  {
   "cell_type": "code",
   "execution_count": 161,
   "metadata": {},
   "outputs": [
    {
     "data": {
      "text/plain": [
       "0.8151890613095955"
      ]
     },
     "execution_count": 161,
     "metadata": {},
     "output_type": "execute_result"
    }
   ],
   "source": [
    "#Accuracy for test set\n",
    "nb_clf.score(X_test, target_test)"
   ]
  },
  {
   "cell_type": "markdown",
   "metadata": {},
   "source": [
    "This accuracy score is not bad! It is quick to run and so definitely worth considering"
   ]
  },
  {
   "cell_type": "markdown",
   "metadata": {},
   "source": [
    "## Cross validate, and (hopefully) find an even better classifier\n",
    "\n",
    "Linear classifers, i.e. logistic regression and naive Bayes, are already performing quite alright with 80%+ accuracy. Let's see if we can do even better using more complicated, non-linear classifiers. Random forest in this case.\n",
    "\n",
    "Random search is preferred over grid search when each iteration takes a long time; that *will* be the case with random forests. Hence, I am searching over randomly generated `max_depth` and `max_features`. In addition, I would like to cap `n_estimators` at 60, as a further measure to save time; the manually defined values should be spread-out enough to identify which region works the best."
   ]
  },
  {
   "cell_type": "code",
   "execution_count": 162,
   "metadata": {},
   "outputs": [],
   "source": [
    "# from sklearn.model_selection import GridSearchCV\n",
    "# from sklearn.ensemble import RandomForestClassifier\n",
    "\n",
    "# #For reproduceable experiments\n",
    "# np.random.seed(5)\n",
    "\n",
    "# #Test different possibilities of max_features up until the actual number of features\n",
    "# total_number_of_features = X_train.shape[1]\n",
    "# log10_total_numbers_of_features = np.log10(total_number_of_features)\n",
    "# max_features = np.ceil(np.power(10,np.random.random(size=5)*log10_total_numbers_of_features)).astype(int)\n",
    "\n",
    "# #Check to make sure there are no duplicates\n",
    "# print(max_features)"
   ]
  },
  {
   "cell_type": "code",
   "execution_count": 163,
   "metadata": {},
   "outputs": [],
   "source": [
    "# #Try different max_depths for trees:considering the number of features, we need deeper trees\n",
    "# max_depth = np.random.choice(range(10,50),size=5,replace=False) \n",
    "# print(max_depth)"
   ]
  },
  {
   "cell_type": "code",
   "execution_count": 164,
   "metadata": {},
   "outputs": [],
   "source": [
    "# #Parameter tuning using grid search\n",
    "# rf_paramgrid = {\n",
    "#     'max_depth': max_depth,\n",
    "#     'n_estimators': (25,30,60), #For the sake of running speed, I'm limiting the no. of trees to 40\n",
    "#     'max_features': max_features\n",
    "# }\n",
    "\n",
    "# grid_rf = GridSearchCV(cv=3,\n",
    "#                        estimator=RandomForestClassifier(),\n",
    "#                       param_grid=rf_paramgrid,\n",
    "#                       scoring='accuracy', n_jobs=2)\n",
    "\n",
    "# grid_rf.fit(X_train, target_train)"
   ]
  },
  {
   "cell_type": "code",
   "execution_count": 165,
   "metadata": {},
   "outputs": [],
   "source": [
    "# print('After 3-fold randomized CV, Random Forest achieves a mean accuracy of {}'.format(grid_rf.best_score_))\n",
    "# print('The training accuracy is {}'.format(grid_rf.score(X_train, target_train)))"
   ]
  },
  {
   "cell_type": "code",
   "execution_count": 166,
   "metadata": {},
   "outputs": [],
   "source": [
    "# #Check the hyperparameters found\n",
    "# print(grid_rf.best_params_)"
   ]
  },
  {
   "cell_type": "code",
   "execution_count": 167,
   "metadata": {},
   "outputs": [],
   "source": [
    "# #Fine tuning around the parameter set found above\n",
    "\n",
    "# rf_paragrid_finetune = {\n",
    "#      'max_depth': (34, 37, 40),\n",
    "#     'n_estimators': (100,),\n",
    "#     'max_features': (1800, 1900, 1952, 2000),\n",
    "# }\n",
    "\n",
    "# grid_rf_finetune = GridSearchCV(cv=3, \n",
    "#                                 estimator=RandomForestClassifier(), \n",
    "#                                 param_grid=rf_paramgrid_finetune, \n",
    "#                                 scoring='accuracy', n_jobs=2)\n",
    "\n",
    "# grid_rf_finetune.fit(X_train, target_train)"
   ]
  },
  {
   "cell_type": "code",
   "execution_count": 168,
   "metadata": {},
   "outputs": [],
   "source": [
    "# print(grid_rf_finetune.best_params_)"
   ]
  },
  {
   "cell_type": "code",
   "execution_count": 169,
   "metadata": {},
   "outputs": [],
   "source": [
    "# print(\"After fine tuning, random forest achieves a mean accuracy of {} on 3-fold CV\".format(grid_rf_finetune.best_score_))\n",
    "# print(\"The train accuracy is {}\".format(grid_rf_finetune.score(X_train, target_train)))\n",
    "# print(\"The test accuracy is {}\".format(grid_rf_finetune.score(X_test, target_test)))"
   ]
  },
  {
   "cell_type": "markdown",
   "metadata": {},
   "source": [
    "## What can we do with the models?\n",
    "How can we make use of the sentiment analysis models trained above? Admittedly, for Yelp reviews, it doesn't seem necessary to predict a label for each review, because each review is already associated with a star rating. (In fact, that's how we got our labels.)\n",
    "\n",
    "However, one can imagine wanting to classify text reviews coming from outside Yelp; in this case, the enormous Yelp data set is great for building a baseline model.\n",
    "\n",
    "Then, for instance, given a corpus of unlabeled reviews for e.g. new restaurants, the models allow us to quickly estimate e.g. the proportion of positive/negative reviews. Demonstrated below using Yelp data."
   ]
  },
  {
   "cell_type": "code",
   "execution_count": 170,
   "metadata": {},
   "outputs": [],
   "source": [
    "most_reviewed_restaurants = br.groupby(\"business_id\")\\\n",
    "                              [\"review_id\"].nunique()\\\n",
    "                                           .sort_values(ascending=False)"
   ]
  },
  {
   "cell_type": "code",
   "execution_count": 171,
   "metadata": {},
   "outputs": [],
   "source": [
    "pos_rev_df = []\n",
    "\n",
    "for bid in most_reviewed_restaurants.index[0:5]:\n",
    "    # For each business_id (bid)\n",
    "    # predict sentiment of associated reviews\n",
    "    # then compute the predicted proportion of +ve reviews\n",
    "    df_bid = br.query(\"`business_id` == @bid\")\n",
    "    \n",
    "    reviews_bid = vectorizer.transform(df_bid[\"text\"])\n",
    "    predicted_sentiments = lr_clf.predict(reviews_bid)\n",
    "    positive_review_proportion = (predicted_sentiments == True).sum() / predicted_sentiments.shape[0]\n",
    "    \n",
    "    restaurant_name = df_bid[\"name\"].iloc[0]\n",
    "    pos_rev_df.append((restaurant_name, positive_review_proportion))\n",
    "    \n",
    "pos_rev_df = pd.DataFrame(pos_rev_df, columns=[\"Restaurant\", \"Proportion of Positive Reviews\"])\\\n",
    "               .set_index(\"Restaurant\")"
   ]
  },
  {
   "cell_type": "code",
   "execution_count": 172,
   "metadata": {},
   "outputs": [
    {
     "data": {
      "text/plain": [
       "<matplotlib.lines.Line2D at 0x7f435c17f1f0>"
      ]
     },
     "execution_count": 172,
     "metadata": {},
     "output_type": "execute_result"
    },
    {
     "data": {
      "image/png": "[encoded data removed]",
      "text/plain": [
       "<Figure size 432x288 with 1 Axes>"
      ]
     },
     "metadata": {
      "needs_background": "light"
     },
     "output_type": "display_data"
    }
   ],
   "source": [
    "# For the most-reviewed restaurant, Tom's Urban, number of reviews with negative sentiment\n",
    "# outnumbers positive ones!\n",
    "\n",
    "pos_rev_df.plot.barh(title=\"How Favorable are the Top-5 Most Reviewed Las Vegan Restaurants?\")\n",
    "plt.axvline(0.5, ls=\"--\", color=\"black\")"
   ]
  },
  {
   "cell_type": "code",
   "execution_count": 195,
   "metadata": {},
   "outputs": [],
   "source": [
    "poor = br.loc[ (br[\"stars_y\"]==1) | (br[\"stars_y\"] == 2)]"
   ]
  },
  {
   "cell_type": "code",
   "execution_count": 198,
   "metadata": {},
   "outputs": [],
   "source": [
    "poor_vec = vectorizer.transform(poor.text)"
   ]
  },
  {
   "cell_type": "markdown",
   "metadata": {},
   "source": [
    "#### Q: Which features (words) that tend to produce a positive/negative prediction?\n",
    "\n",
    "Glad to see that features with the most positive/negative coefficients in logistic regression actually correspond to positive/negative sentiments! (Remember, positive = 1, negative = 0) "
   ]
  },
  {
   "cell_type": "code",
   "execution_count": 173,
   "metadata": {},
   "outputs": [
    {
     "name": "stdout",
     "output_type": "stream",
     "text": [
      "['amazing', 'best', 'delicious', 'thank', 'incredible', 'awesome', 'excellent', 'phenomenal', 'perfect', 'favorite', 'outstanding', 'fantastic', 'perfection', 'wow', 'great', 'perfectly', 'gem', 'everything', 'highly', 'every', 'wonderful', 'omg', 'bomb', 'love', 'knowledgeable', 'beyond', 'world', 'glad', 'loved', 'die', 'exceptional', 'mouth', 'thanks', 'disappoint', 'oh', 'welcoming', 'definitely back', 'happy', 'helpful', 'must', 'life', 'five', 'vegas', 'greeted', 'love place', 'definitely', 'even though', 'friendly', 'ever', 'immediately']\n",
      "['worst', 'rude', 'terrible', 'bland', 'horrible', 'disappointing', 'ok', 'poor', 'mediocre', 'okay', 'dry', 'however', 'overpriced', 'slow', 'average', 'reason', 'unfortunately', 'decent', 'dirty', 'overall', 'bad', 'cold', 'guess', 'nothing', 'salty', 'told', 'seemed', 'maybe', 'money', 'asked', 'star', 'said', 'would', 'sad', 'though', 'happened', 'tasted like', 'sorry', 'paid', 'charge', 'hour', 'loud', 'bill', 'bit', 'looked', 'seem', 'stars', 'instead', 'part', 'given']\n"
     ]
    }
   ],
   "source": [
    "#Identify the words relevant to predicting positive/negative reviews\n",
    "\n",
    "top_positive_words = get_top_values(lst=lr_clf.coef_[0], n=50, labels=ix_to_tokens)\n",
    "print(top_positive_words)\n",
    "\n",
    "top_negative_words = get_bottom_values(lst=lr_clf.coef_[0], n=50, labels=ix_to_tokens)\n",
    "print(top_negative_words)"
   ]
  },
  {
   "cell_type": "markdown",
   "metadata": {},
   "source": [
    "## Cluster Reviews with KMeans\n",
    "\n",
    "Fit K-means clustering with training data, and then apply it on the entire dataset. Tune with elbow method.\n",
    "Used sklearn.cluster.MiniBatchKMeans isntead of sklearn.cluster.KMeasn to speed up convergence"
   ]
  },
  {
   "cell_type": "code",
   "execution_count": 174,
   "metadata": {},
   "outputs": [],
   "source": [
    "from sklearn.cluster import MiniBatchKMeans\n"
   ]
  },
  {
   "cell_type": "code",
   "execution_count": 175,
   "metadata": {},
   "outputs": [],
   "source": [
    "# Predict positive/negative label for reviews in test set\n",
    "y_pred = lr_clf.predict(X_test)\n",
    "\n",
    "# Extract only those reviews predicted to be negative\n",
    "negative_documents = documents_test.loc[y_pred == False]  # raw text\n",
    "negative_X_test = X_test[y_pred == False]  # tfidf vectors"
   ]
  },
  {
   "cell_type": "code",
   "execution_count": 199,
   "metadata": {},
   "outputs": [],
   "source": [
    "# kmeans_model = MiniBatchKMeans(9).fit(negative_X_test)\n",
    "kmeans_model = MiniBatchKMeans(9).fit(poor_vec)"
   ]
  },
  {
   "cell_type": "code",
   "execution_count": 200,
   "metadata": {},
   "outputs": [],
   "source": [
    "\n",
    "#Define function to print top features (largest component of the centroid vector) of each cluster\n",
    "\n",
    "def print_top_n_features(model: MiniBatchKMeans, ix_to_tokens: Dict[int, str], n: int=10):\n",
    "    cluster_centers = model.cluster_centers_\n",
    "    labels = model.labels_\n",
    "    \n",
    "    for i, centroid in enumerate(cluster_centers):\n",
    "        top_n_features = np.argsort(centroid)[::-1][:n]\n",
    "        top_n_words = [ix_to_tokens[feature_index] for feature_index in top_n_features]\n",
    "        \n",
    "        print('Top tokens from cluster {} (# of obs: {})'.format(i, (labels==i).sum()))\n",
    "        print(top_n_words)"
   ]
  },
  {
   "cell_type": "code",
   "execution_count": 202,
   "metadata": {},
   "outputs": [
    {
     "name": "stdout",
     "output_type": "stream",
     "text": [
      "Unnamed: 0\n"
     ]
    }
   ],
   "source": [
    "for review in poor.loc[kmeans_model.labels_ == 0]:\n",
    "    print(review)\n",
    "    break"
   ]
  },
  {
   "cell_type": "code",
   "execution_count": 203,
   "metadata": {},
   "outputs": [
    {
     "name": "stdout",
     "output_type": "stream",
     "text": [
      "Top tokens from cluster 0 (# of obs: 3760)\n",
      "['good', 'better', 'ordered', 'like', 'bland', 'buffet', 'flavor', 'taste', 'steak', 'would']\n",
      "Top tokens from cluster 1 (# of obs: 1224)\n",
      "['worst', 'ever', 'never', 'place', 'service', 'one', 'like', 'even', 'order', 'experience']\n",
      "Top tokens from cluster 2 (# of obs: 7174)\n",
      "['place', 'like', 'time', 'go', 'get', 'even', 'good', 'back', 'money', 'never']\n",
      "Top tokens from cluster 3 (# of obs: 1518)\n",
      "['chicken', 'ordered', 'like', 'dry', 'good', 'got', 'fried', 'place', 'order', 'fries']\n",
      "Top tokens from cluster 4 (# of obs: 1141)\n",
      "['bad', 'service', 'place', 'like', 'good', 'never', 'really', 'time', 'order', 'go']\n",
      "Top tokens from cluster 5 (# of obs: 1477)\n",
      "['customer', 'customer service', 'service', 'rude', 'order', 'manager', 'never', 'horrible', 'us', 'location']\n",
      "Top tokens from cluster 6 (# of obs: 3608)\n",
      "['order', 'pizza', 'said', 'asked', 'told', 'manager', 'get', 'never', 'back', 'ordered']\n",
      "Top tokens from cluster 7 (# of obs: 986)\n",
      "['horrible', 'service', 'place', 'never', 'even', 'order', 'back', 'would', 'rude', 'go']\n",
      "Top tokens from cluster 8 (# of obs: 4538)\n",
      "['us', 'minutes', 'table', 'came', 'one', 'time', 'get', 'even', 'asked', 'service']\n"
     ]
    }
   ],
   "source": [
    "print_top_n_features(kmeans_model, ix_to_tokens, 10)"
   ]
  },
  {
   "cell_type": "code",
   "execution_count": 180,
   "metadata": {},
   "outputs": [
    {
     "name": "stdout",
     "output_type": "stream",
     "text": [
      "Top tokens from cluster 0 (# of obs: 64955)\n",
      "['good', 'place', 'like', 'chicken', 'time', 'order', 'get', 'ordered', 'back', 'really']\n",
      "Top tokens from cluster 1 (# of obs: 22053)\n",
      "['great', 'service', 'place', 'amazing', 'great service', 'friendly', 'good', 'definitely', 'back', 'staff']\n",
      "Top tokens from cluster 2 (# of obs: 12746)\n",
      "['vegas', 'best', 'las', 'las vegas', 'place', 'ever', 'one', 'amazing', 'restaurant', 'good']\n"
     ]
    }
   ],
   "source": [
    "#Start with k=3, as a trial\n",
    "kmeans = MiniBatchKMeans(n_clusters=3, batch_size=500, max_iter=100, n_init=5)\n",
    "kmeans.fit(X_train)\n",
    "print_top_n_features(kmeans,ix_to_tokens,n=10)"
   ]
  },
  {
   "cell_type": "markdown",
   "metadata": {},
   "source": [
    "### Experiment with different K\n",
    "\n",
    "Attempt to find the optimal K using elbow method"
   ]
  },
  {
   "cell_type": "code",
   "execution_count": 187,
   "metadata": {},
   "outputs": [
    {
     "data": {
      "text/plain": [
       "Text(0, 0.5, 'Mean Intra-cluster Sum of Squares')"
      ]
     },
     "execution_count": 187,
     "metadata": {},
     "output_type": "execute_result"
    },
    {
     "data": {
      "image/png": "[encoded data removed]",
      "text/plain": [
       "<Figure size 432x288 with 1 Axes>"
      ]
     },
     "metadata": {
      "needs_background": "light"
     },
     "output_type": "display_data"
    }
   ],
   "source": [
    "from Elbow import elbow_tuner\n",
    "\n",
    "k_to_try = range(3, 18, 1)\n",
    "\n",
    "intra_cluster_sum_of_squares = elbow_tuner(negative_X_test, k_to_try)\n",
    "\n",
    "plt.plot(k_to_try, intra_cluster_sum_of_squares, '-+')\n",
    "plt.xlabel('K (Number of Clusters)')\n",
    "plt.ylabel('Mean Intra-cluster Sum of Squares')"
   ]
  },
  {
   "cell_type": "code",
   "execution_count": 188,
   "metadata": {},
   "outputs": [
    {
     "name": "stdout",
     "output_type": "stream",
     "text": [
      "Top tokens from cluster 0 (# of obs: 329)\n",
      "['rice', 'fried', 'fried rice', 'ordered', 'good', 'pork', 'shrimp', 'chicken', 'came', 'sauce', 'like']\n",
      "Top tokens from cluster 1 (# of obs: 1005)\n",
      "['good', 'pretty', 'nice', 'really', 'pretty good', 'place', 'little', 'like', 'would', 'price', 'restaurant']\n",
      "Top tokens from cluster 2 (# of obs: 715)\n",
      "['chicken', 'good', 'ordered', 'fried', 'fried chicken', 'like', 'fries', 'sauce', 'got', 'place', 'dry']\n",
      "Top tokens from cluster 3 (# of obs: 2199)\n",
      "['us', 'order', 'minutes', 'get', 'said', 'asked', 'time', 'one', 'came', 'table', 'would']\n",
      "Top tokens from cluster 4 (# of obs: 417)\n",
      "['bad', 'good', 'service', 'place', 'never', 'like', 'really', 'go', 'one', 'even', 'come']\n",
      "Top tokens from cluster 5 (# of obs: 488)\n",
      "['pizza', 'crust', 'good', 'ordered', 'like', 'order', 'one', 'would', 'sauce', 'cheese', 'wings']\n",
      "Top tokens from cluster 6 (# of obs: 743)\n",
      "['burger', 'sandwich', 'fries', 'cheese', 'good', 'eggs', 'ordered', 'got', 'like', 'get', 'bacon']\n",
      "Top tokens from cluster 7 (# of obs: 497)\n",
      "['good', 'service good', 'service', 'good service', 'great', 'place', 'price', 'really', 'better', 'burger', 'prices']\n",
      "Top tokens from cluster 8 (# of obs: 3623)\n",
      "['like', 'place', 'good', 'ordered', 'would', 'service', 'better', 'restaurant', 'great', 'one', 'time']\n",
      "Top tokens from cluster 9 (# of obs: 581)\n",
      "['customer', 'customer service', 'service', 'rude', 'time', 'location', 'worst', 'order', 'get', 'never', 'even']\n",
      "Top tokens from cluster 10 (# of obs: 420)\n",
      "['burrito', 'tacos', 'taco', 'order', 'breakfast', 'good', 'ordered', 'asada', 'carne', 'get', 'salsa']\n"
     ]
    }
   ],
   "source": [
    "kmeans_final = MiniBatchKMeans(n_clusters=11).fit(negative_X_test)\n",
    "print_top_n_features(kmeans_final,ix_to_tokens,n=11)"
   ]
  },
  {
   "cell_type": "code",
   "execution_count": 183,
   "metadata": {},
   "outputs": [
    {
     "data": {
      "text/plain": [
       "0"
      ]
     },
     "execution_count": 183,
     "metadata": {},
     "output_type": "execute_result"
    }
   ],
   "source": [
    "(kmeans_final.labels_ == 24).sum()"
   ]
  },
  {
   "cell_type": "code",
   "execution_count": 184,
   "metadata": {},
   "outputs": [
    {
     "data": {
      "text/plain": [
       "(11017,)"
      ]
     },
     "execution_count": 184,
     "metadata": {},
     "output_type": "execute_result"
    }
   ],
   "source": [
    "kmeans_final.labels_ .shape"
   ]
  },
  {
   "cell_type": "code",
   "execution_count": 185,
   "metadata": {},
   "outputs": [
    {
     "name": "stdout",
     "output_type": "stream",
     "text": [
      "1 3729\n",
      "8 1926\n",
      "3 1595\n",
      "0 1149\n",
      "2 758\n",
      "7 542\n",
      "4 508\n",
      "6 420\n",
      "5 390\n",
      "22 0\n",
      "9 0\n",
      "10 0\n",
      "23 0\n",
      "12 0\n",
      "13 0\n",
      "14 0\n",
      "15 0\n",
      "16 0\n",
      "17 0\n",
      "18 0\n",
      "19 0\n",
      "20 0\n",
      "21 0\n",
      "11 0\n"
     ]
    }
   ],
   "source": [
    "# list to store observations per cluster\n",
    "obs_per_cluster = []\n",
    "for cluster_id in range(24):\n",
    "    obs_per_cluster.append( (kmeans_final.labels_ == cluster_id).sum() )\n",
    "\n",
    "# convert into numpy array, which allows np.argsort() to work / speeds it up\n",
    "# obs_per_cluster = np.array(obs_per_cluster)\n",
    "\n",
    "# iterate through results of argsort() in reverse, to view number of observations in descending order\n",
    "for cluster_id in reversed(np.argsort(obs_per_cluster)):\n",
    "    print(cluster_id, obs_per_cluster[cluster_id])"
   ]
  },
  {
   "cell_type": "code",
   "execution_count": 186,
   "metadata": {},
   "outputs": [
    {
     "data": {
      "text/plain": [
       "\u001b[0;31mSignature:\u001b[0m \u001b[0mnp\u001b[0m\u001b[0;34m.\u001b[0m\u001b[0margsort\u001b[0m\u001b[0;34m(\u001b[0m\u001b[0ma\u001b[0m\u001b[0;34m,\u001b[0m \u001b[0maxis\u001b[0m\u001b[0;34m=\u001b[0m\u001b[0;34m-\u001b[0m\u001b[0;36m1\u001b[0m\u001b[0;34m,\u001b[0m \u001b[0mkind\u001b[0m\u001b[0;34m=\u001b[0m\u001b[0;32mNone\u001b[0m\u001b[0;34m,\u001b[0m \u001b[0morder\u001b[0m\u001b[0;34m=\u001b[0m\u001b[0;32mNone\u001b[0m\u001b[0;34m)\u001b[0m\u001b[0;34m\u001b[0m\u001b[0;34m\u001b[0m\u001b[0m\n",
       "\u001b[0;31mDocstring:\u001b[0m\n",
       "Returns the indices that would sort an array.\n",
       "\n",
       "Perform an indirect sort along the given axis using the algorithm specified\n",
       "by the `kind` keyword. It returns an array of indices of the same shape as\n",
       "`a` that index data along the given axis in sorted order.\n",
       "\n",
       "Parameters\n",
       "----------\n",
       "a : array_like\n",
       "    Array to sort.\n",
       "axis : int or None, optional\n",
       "    Axis along which to sort.  The default is -1 (the last axis). If None,\n",
       "    the flattened array is used.\n",
       "kind : {'quicksort', 'mergesort', 'heapsort', 'stable'}, optional\n",
       "    Sorting algorithm. The default is 'quicksort'. Note that both 'stable'\n",
       "    and 'mergesort' use timsort under the covers and, in general, the\n",
       "    actual implementation will vary with data type. The 'mergesort' option\n",
       "    is retained for backwards compatibility.\n",
       "\n",
       "    .. versionchanged:: 1.15.0.\n",
       "       The 'stable' option was added.\n",
       "order : str or list of str, optional\n",
       "    When `a` is an array with fields defined, this argument specifies\n",
       "    which fields to compare first, second, etc.  A single field can\n",
       "    be specified as a string, and not all fields need be specified,\n",
       "    but unspecified fields will still be used, in the order in which\n",
       "    they come up in the dtype, to break ties.\n",
       "\n",
       "Returns\n",
       "-------\n",
       "index_array : ndarray, int\n",
       "    Array of indices that sort `a` along the specified `axis`.\n",
       "    If `a` is one-dimensional, ``a[index_array]`` yields a sorted `a`.\n",
       "    More generally, ``np.take_along_axis(a, index_array, axis=axis)``\n",
       "    always yields the sorted `a`, irrespective of dimensionality.\n",
       "\n",
       "See Also\n",
       "--------\n",
       "sort : Describes sorting algorithms used.\n",
       "lexsort : Indirect stable sort with multiple keys.\n",
       "ndarray.sort : Inplace sort.\n",
       "argpartition : Indirect partial sort.\n",
       "take_along_axis : Apply ``index_array`` from argsort \n",
       "                  to an array as if by calling sort.\n",
       "\n",
       "Notes\n",
       "-----\n",
       "See `sort` for notes on the different sorting algorithms.\n",
       "\n",
       "As of NumPy 1.4.0 `argsort` works with real/complex arrays containing\n",
       "nan values. The enhanced sort order is documented in `sort`.\n",
       "\n",
       "Examples\n",
       "--------\n",
       "One dimensional array:\n",
       "\n",
       ">>> x = np.array([3, 1, 2])\n",
       ">>> np.argsort(x)\n",
       "array([1, 2, 0])\n",
       "\n",
       "Two-dimensional array:\n",
       "\n",
       ">>> x = np.array([[0, 3], [2, 2]])\n",
       ">>> x\n",
       "array([[0, 3],\n",
       "       [2, 2]])\n",
       "\n",
       ">>> ind = np.argsort(x, axis=0)  # sorts along first axis (down)\n",
       ">>> ind\n",
       "array([[0, 1],\n",
       "       [1, 0]])\n",
       ">>> np.take_along_axis(x, ind, axis=0)  # same as np.sort(x, axis=0)\n",
       "array([[0, 2],\n",
       "       [2, 3]])\n",
       "\n",
       ">>> ind = np.argsort(x, axis=1)  # sorts along last axis (across)\n",
       ">>> ind\n",
       "array([[0, 1],\n",
       "       [0, 1]])\n",
       ">>> np.take_along_axis(x, ind, axis=1)  # same as np.sort(x, axis=1)\n",
       "array([[0, 3],\n",
       "       [2, 2]])\n",
       "\n",
       "Indices of the sorted elements of a N-dimensional array:\n",
       "\n",
       ">>> ind = np.unravel_index(np.argsort(x, axis=None), x.shape)\n",
       ">>> ind\n",
       "(array([0, 1, 1, 0]), array([0, 0, 1, 1]))\n",
       ">>> x[ind]  # same as np.sort(x, axis=None)\n",
       "array([0, 2, 2, 3])\n",
       "\n",
       "Sorting with keys:\n",
       "\n",
       ">>> x = np.array([(1, 0), (0, 1)], dtype=[('x', '<i4'), ('y', '<i4')])\n",
       ">>> x\n",
       "array([(1, 0), (0, 1)],\n",
       "      dtype=[('x', '<i4'), ('y', '<i4')])\n",
       "\n",
       ">>> np.argsort(x, order=('x','y'))\n",
       "array([1, 0])\n",
       "\n",
       ">>> np.argsort(x, order=('y','x'))\n",
       "array([0, 1])\n",
       "\u001b[0;31mFile:\u001b[0m      /usr/local/lib/python3.8/dist-packages/numpy/core/fromnumeric.py\n",
       "\u001b[0;31mType:\u001b[0m      function\n"
      ]
     },
     "metadata": {},
     "output_type": "display_data"
    }
   ],
   "source": [
    "np.argsort?"
   ]
  },
  {
   "cell_type": "code",
   "execution_count": null,
   "metadata": {},
   "outputs": [],
   "source": []
  }
 ],
 "metadata": {
  "kernelspec": {
   "display_name": "Python 3",
   "language": "python",
   "name": "python3"
  },
  "language_info": {
   "codemirror_mode": {
    "name": "ipython",
    "version": 3
   },
   "file_extension": ".py",
   "mimetype": "text/x-python",
   "name": "python",
   "nbconvert_exporter": "python",
   "pygments_lexer": "ipython3",
   "version": "3.8.5"
  }
 },
 "nbformat": 4,
 "nbformat_minor": 4
}
