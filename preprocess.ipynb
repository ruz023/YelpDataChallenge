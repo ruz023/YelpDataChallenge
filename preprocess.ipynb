{
 "cells": [
  {
   "cell_type": "markdown",
   "metadata": {},
   "source": [
    "# YelpData Challenge "
   ]
  },
  {
   "cell_type": "markdown",
   "metadata": {},
   "source": [
    "## Dataset Introduction\n",
    "\n",
    "4.1M reviews for 144k businesses\n",
    "1.1M business attributes, e.g., hours, parking availability, ambience\n",
    "111 unique cities from all around the world. This project will work with Las Vegas, the most popular city in the dataset. \n"
   ]
  },
  {
   "cell_type": "code",
   "execution_count": 2,
   "metadata": {},
   "outputs": [],
   "source": [
    "import datetime\n",
    "import json\n",
    "import pandas as pd\n",
    "import numpy as np"
   ]
  },
  {
   "cell_type": "code",
   "execution_count": 2,
   "metadata": {},
   "outputs": [
    {
     "ename": "KeyboardInterrupt",
     "evalue": "",
     "output_type": "error",
     "traceback": [
      "\u001b[0;31m---------------------------------------------------------------------------\u001b[0m",
      "\u001b[0;31mKeyboardInterrupt\u001b[0m                         Traceback (most recent call last)",
      "\u001b[0;32m<ipython-input-2-0598b576af80>\u001b[0m in \u001b[0;36m<module>\u001b[0;34m\u001b[0m\n\u001b[0;32m----> 1\u001b[0;31m \u001b[0mbusiness\u001b[0m \u001b[0;34m=\u001b[0m \u001b[0mpd\u001b[0m\u001b[0;34m.\u001b[0m\u001b[0mread_json\u001b[0m\u001b[0;34m(\u001b[0m\u001b[0;34m'yelp_academic_dataset_business.json'\u001b[0m\u001b[0;34m,\u001b[0m\u001b[0mlines\u001b[0m\u001b[0;34m=\u001b[0m\u001b[0;32mTrue\u001b[0m\u001b[0;34m)\u001b[0m\u001b[0;34m\u001b[0m\u001b[0;34m\u001b[0m\u001b[0m\n\u001b[0m",
      "\u001b[0;32m/usr/local/lib/python3.8/dist-packages/pandas/util/_decorators.py\u001b[0m in \u001b[0;36mwrapper\u001b[0;34m(*args, **kwargs)\u001b[0m\n\u001b[1;32m    197\u001b[0m                 \u001b[0;32melse\u001b[0m\u001b[0;34m:\u001b[0m\u001b[0;34m\u001b[0m\u001b[0;34m\u001b[0m\u001b[0m\n\u001b[1;32m    198\u001b[0m                     \u001b[0mkwargs\u001b[0m\u001b[0;34m[\u001b[0m\u001b[0mnew_arg_name\u001b[0m\u001b[0;34m]\u001b[0m \u001b[0;34m=\u001b[0m \u001b[0mnew_arg_value\u001b[0m\u001b[0;34m\u001b[0m\u001b[0;34m\u001b[0m\u001b[0m\n\u001b[0;32m--> 199\u001b[0;31m             \u001b[0;32mreturn\u001b[0m \u001b[0mfunc\u001b[0m\u001b[0;34m(\u001b[0m\u001b[0;34m*\u001b[0m\u001b[0margs\u001b[0m\u001b[0;34m,\u001b[0m \u001b[0;34m**\u001b[0m\u001b[0mkwargs\u001b[0m\u001b[0;34m)\u001b[0m\u001b[0;34m\u001b[0m\u001b[0;34m\u001b[0m\u001b[0m\n\u001b[0m\u001b[1;32m    200\u001b[0m \u001b[0;34m\u001b[0m\u001b[0m\n\u001b[1;32m    201\u001b[0m         \u001b[0;32mreturn\u001b[0m \u001b[0mcast\u001b[0m\u001b[0;34m(\u001b[0m\u001b[0mF\u001b[0m\u001b[0;34m,\u001b[0m \u001b[0mwrapper\u001b[0m\u001b[0;34m)\u001b[0m\u001b[0;34m\u001b[0m\u001b[0;34m\u001b[0m\u001b[0m\n",
      "\u001b[0;32m/usr/local/lib/python3.8/dist-packages/pandas/util/_decorators.py\u001b[0m in \u001b[0;36mwrapper\u001b[0;34m(*args, **kwargs)\u001b[0m\n\u001b[1;32m    294\u001b[0m                 )\n\u001b[1;32m    295\u001b[0m                 \u001b[0mwarnings\u001b[0m\u001b[0;34m.\u001b[0m\u001b[0mwarn\u001b[0m\u001b[0;34m(\u001b[0m\u001b[0mmsg\u001b[0m\u001b[0;34m,\u001b[0m \u001b[0mFutureWarning\u001b[0m\u001b[0;34m,\u001b[0m \u001b[0mstacklevel\u001b[0m\u001b[0;34m=\u001b[0m\u001b[0mstacklevel\u001b[0m\u001b[0;34m)\u001b[0m\u001b[0;34m\u001b[0m\u001b[0;34m\u001b[0m\u001b[0m\n\u001b[0;32m--> 296\u001b[0;31m             \u001b[0;32mreturn\u001b[0m \u001b[0mfunc\u001b[0m\u001b[0;34m(\u001b[0m\u001b[0;34m*\u001b[0m\u001b[0margs\u001b[0m\u001b[0;34m,\u001b[0m \u001b[0;34m**\u001b[0m\u001b[0mkwargs\u001b[0m\u001b[0;34m)\u001b[0m\u001b[0;34m\u001b[0m\u001b[0;34m\u001b[0m\u001b[0m\n\u001b[0m\u001b[1;32m    297\u001b[0m \u001b[0;34m\u001b[0m\u001b[0m\n\u001b[1;32m    298\u001b[0m         \u001b[0;32mreturn\u001b[0m \u001b[0mwrapper\u001b[0m\u001b[0;34m\u001b[0m\u001b[0;34m\u001b[0m\u001b[0m\n",
      "\u001b[0;32m/usr/local/lib/python3.8/dist-packages/pandas/io/json/_json.py\u001b[0m in \u001b[0;36mread_json\u001b[0;34m(path_or_buf, orient, typ, dtype, convert_axes, convert_dates, keep_default_dates, numpy, precise_float, date_unit, encoding, lines, chunksize, compression, nrows)\u001b[0m\n\u001b[1;32m    616\u001b[0m         \u001b[0;32mreturn\u001b[0m \u001b[0mjson_reader\u001b[0m\u001b[0;34m\u001b[0m\u001b[0;34m\u001b[0m\u001b[0m\n\u001b[1;32m    617\u001b[0m \u001b[0;34m\u001b[0m\u001b[0m\n\u001b[0;32m--> 618\u001b[0;31m     \u001b[0mresult\u001b[0m \u001b[0;34m=\u001b[0m \u001b[0mjson_reader\u001b[0m\u001b[0;34m.\u001b[0m\u001b[0mread\u001b[0m\u001b[0;34m(\u001b[0m\u001b[0;34m)\u001b[0m\u001b[0;34m\u001b[0m\u001b[0;34m\u001b[0m\u001b[0m\n\u001b[0m\u001b[1;32m    619\u001b[0m     \u001b[0;32mif\u001b[0m \u001b[0mshould_close\u001b[0m\u001b[0;34m:\u001b[0m\u001b[0;34m\u001b[0m\u001b[0;34m\u001b[0m\u001b[0m\n\u001b[1;32m    620\u001b[0m         \u001b[0mfilepath_or_buffer\u001b[0m\u001b[0;34m.\u001b[0m\u001b[0mclose\u001b[0m\u001b[0;34m(\u001b[0m\u001b[0;34m)\u001b[0m\u001b[0;34m\u001b[0m\u001b[0;34m\u001b[0m\u001b[0m\n",
      "\u001b[0;32m/usr/local/lib/python3.8/dist-packages/pandas/io/json/_json.py\u001b[0m in \u001b[0;36mread\u001b[0;34m(self)\u001b[0m\n\u001b[1;32m    750\u001b[0m             \u001b[0;32melse\u001b[0m\u001b[0;34m:\u001b[0m\u001b[0;34m\u001b[0m\u001b[0;34m\u001b[0m\u001b[0m\n\u001b[1;32m    751\u001b[0m                 \u001b[0mdata\u001b[0m \u001b[0;34m=\u001b[0m \u001b[0mensure_str\u001b[0m\u001b[0;34m(\u001b[0m\u001b[0mself\u001b[0m\u001b[0;34m.\u001b[0m\u001b[0mdata\u001b[0m\u001b[0;34m)\u001b[0m\u001b[0;34m\u001b[0m\u001b[0;34m\u001b[0m\u001b[0m\n\u001b[0;32m--> 752\u001b[0;31m                 \u001b[0mdata\u001b[0m \u001b[0;34m=\u001b[0m \u001b[0mdata\u001b[0m\u001b[0;34m.\u001b[0m\u001b[0msplit\u001b[0m\u001b[0;34m(\u001b[0m\u001b[0;34m\"\\n\"\u001b[0m\u001b[0;34m)\u001b[0m\u001b[0;34m\u001b[0m\u001b[0;34m\u001b[0m\u001b[0m\n\u001b[0m\u001b[1;32m    753\u001b[0m                 \u001b[0mobj\u001b[0m \u001b[0;34m=\u001b[0m \u001b[0mself\u001b[0m\u001b[0;34m.\u001b[0m\u001b[0m_get_object_parser\u001b[0m\u001b[0;34m(\u001b[0m\u001b[0mself\u001b[0m\u001b[0;34m.\u001b[0m\u001b[0m_combine_lines\u001b[0m\u001b[0;34m(\u001b[0m\u001b[0mdata\u001b[0m\u001b[0;34m)\u001b[0m\u001b[0;34m)\u001b[0m\u001b[0;34m\u001b[0m\u001b[0;34m\u001b[0m\u001b[0m\n\u001b[1;32m    754\u001b[0m         \u001b[0;32melse\u001b[0m\u001b[0;34m:\u001b[0m\u001b[0;34m\u001b[0m\u001b[0;34m\u001b[0m\u001b[0m\n",
      "\u001b[0;31mKeyboardInterrupt\u001b[0m: "
     ]
    }
   ],
   "source": [
    "business = pd.read_json('data/yelp_academic_dataset_business.json',lines=True)"
   ]
  },
  {
   "cell_type": "markdown",
   "metadata": {},
   "source": [
    "First, we need to check out various names that refer to Las Vegas, and standarize them"
   ]
  },
  {
   "cell_type": "code",
   "execution_count": 26,
   "metadata": {},
   "outputs": [
    {
     "name": "stdout",
     "output_type": "stream",
     "text": [
      "Las Vegas\n",
      "Lasalle\n",
      "LaSalle\n",
      "LAS VEGAS AP\n"
     ]
    }
   ],
   "source": [
    "#check for all variations of \"Las Vegas\"\n",
    "\n",
    "for name in business['city'].unique():\n",
    "    if name.lower().startswith('las'):\n",
    "        print(name)"
   ]
  },
  {
   "cell_type": "code",
   "execution_count": 6,
   "metadata": {},
   "outputs": [],
   "source": [
    "#Standarize all into \"Las Vegas\"\n",
    "city_names = [\"las vegas\", \"las  vegas\", \"las vegas east\",\n",
    "                    \"las vegass\", \"lasvegas\", \"las vegas,\", \"las vegas nv\",\n",
    "                    \"las vegas, nv\", \"las vegas nevada\",'las vegas, nevada']\n",
    "\n",
    "def fix_city_name(name,names_to_replace,key=None):\n",
    "    if name.lower().strip() in names_to_replace:\n",
    "        return key\n",
    "    return name\n",
    "\n",
    "business.city = business.city.apply(fix_city_name,args=(city_names,\"Las Vegas\"))"
   ]
  },
  {
   "cell_type": "code",
   "execution_count": 7,
   "metadata": {},
   "outputs": [
    {
     "name": "stdout",
     "output_type": "stream",
     "text": [
      "<class 'pandas.core.frame.DataFrame'>\n",
      "Int64Index: 31689 entries, 6 to 209386\n",
      "Data columns (total 14 columns):\n",
      " #   Column        Non-Null Count  Dtype  \n",
      "---  ------        --------------  -----  \n",
      " 0   business_id   31689 non-null  object \n",
      " 1   name          31689 non-null  object \n",
      " 2   address       31689 non-null  object \n",
      " 3   city          31689 non-null  object \n",
      " 4   state         31689 non-null  object \n",
      " 5   postal_code   31689 non-null  object \n",
      " 6   latitude      31689 non-null  float64\n",
      " 7   longitude     31689 non-null  float64\n",
      " 8   stars         31689 non-null  float64\n",
      " 9   review_count  31689 non-null  int64  \n",
      " 10  is_open       31689 non-null  int64  \n",
      " 11  attributes    27548 non-null  object \n",
      " 12  categories    31614 non-null  object \n",
      " 13  hours         25093 non-null  object \n",
      "dtypes: float64(3), int64(2), object(9)\n",
      "memory usage: 3.6+ MB\n"
     ]
    }
   ],
   "source": [
    "LV = business[business['city'] == 'Las Vegas']\n",
    "LV.info()"
   ]
  },
  {
   "cell_type": "markdown",
   "metadata": {},
   "source": [
    "## Filter data by city and category\n",
    "\n",
    "Extract all data associated with restaurants in Las Vegas"
   ]
  },
  {
   "cell_type": "code",
   "execution_count": 8,
   "metadata": {},
   "outputs": [
    {
     "data": {
      "text/html": [
       "<div>\n",
       "<style scoped>\n",
       "    .dataframe tbody tr th:only-of-type {\n",
       "        vertical-align: middle;\n",
       "    }\n",
       "\n",
       "    .dataframe tbody tr th {\n",
       "        vertical-align: top;\n",
       "    }\n",
       "\n",
       "    .dataframe thead th {\n",
       "        text-align: right;\n",
       "    }\n",
       "</style>\n",
       "<table border=\"1\" class=\"dataframe\">\n",
       "  <thead>\n",
       "    <tr style=\"text-align: right;\">\n",
       "      <th></th>\n",
       "      <th>business_id</th>\n",
       "      <th>name</th>\n",
       "      <th>address</th>\n",
       "      <th>city</th>\n",
       "      <th>state</th>\n",
       "      <th>postal_code</th>\n",
       "      <th>latitude</th>\n",
       "      <th>longitude</th>\n",
       "      <th>stars</th>\n",
       "      <th>review_count</th>\n",
       "      <th>is_open</th>\n",
       "      <th>attributes</th>\n",
       "      <th>categories</th>\n",
       "      <th>hours</th>\n",
       "    </tr>\n",
       "  </thead>\n",
       "  <tbody>\n",
       "    <tr>\n",
       "      <th>238</th>\n",
       "      <td>AN0bWhisCf6LN9eHZ7DQ3w</td>\n",
       "      <td>Los Olivos Ristorante</td>\n",
       "      <td>3759 E Desert Inn Rd</td>\n",
       "      <td>Las Vegas</td>\n",
       "      <td>NV</td>\n",
       "      <td>89121</td>\n",
       "      <td>36.129178</td>\n",
       "      <td>-115.092483</td>\n",
       "      <td>5.0</td>\n",
       "      <td>222</td>\n",
       "      <td>1</td>\n",
       "      <td>{'WiFi': 'u'free'', 'RestaurantsPriceRange2': ...</td>\n",
       "      <td>Restaurants, Italian</td>\n",
       "      <td>{'Monday': '0:0-0:0', 'Tuesday': '16:0-21:0', ...</td>\n",
       "    </tr>\n",
       "    <tr>\n",
       "      <th>246</th>\n",
       "      <td>AtD6B83S4Mbmq0t7iDnUVA</td>\n",
       "      <td>Veggie House</td>\n",
       "      <td>5115 Spring Mountain Rd, Ste 203</td>\n",
       "      <td>Las Vegas</td>\n",
       "      <td>NV</td>\n",
       "      <td>89146</td>\n",
       "      <td>36.125569</td>\n",
       "      <td>-115.210911</td>\n",
       "      <td>4.5</td>\n",
       "      <td>1142</td>\n",
       "      <td>1</td>\n",
       "      <td>{'RestaurantsPriceRange2': '2', 'BikeParking':...</td>\n",
       "      <td>Restaurants, Specialty Food, Japanese, Sushi B...</td>\n",
       "      <td>{'Monday': '11:30-21:30', 'Tuesday': '11:30-21...</td>\n",
       "    </tr>\n",
       "    <tr>\n",
       "      <th>364</th>\n",
       "      <td>ZsKWULhwwB61RHzCrb1i9A</td>\n",
       "      <td>Blue Burrito Grille</td>\n",
       "      <td>5757 Wayne Newton Blvd</td>\n",
       "      <td>Las Vegas</td>\n",
       "      <td>NV</td>\n",
       "      <td>89119</td>\n",
       "      <td>36.080542</td>\n",
       "      <td>-115.146459</td>\n",
       "      <td>2.5</td>\n",
       "      <td>31</td>\n",
       "      <td>1</td>\n",
       "      <td>{'RestaurantsDelivery': 'False', 'GoodForKids'...</td>\n",
       "      <td>Restaurants, Mexican</td>\n",
       "      <td>None</td>\n",
       "    </tr>\n",
       "    <tr>\n",
       "      <th>450</th>\n",
       "      <td>c1JoHp602zilpDU_57DsMg</td>\n",
       "      <td>Starbucks</td>\n",
       "      <td>3950 Las Vegas Blvd So</td>\n",
       "      <td>Las Vegas</td>\n",
       "      <td>NV</td>\n",
       "      <td>89119</td>\n",
       "      <td>36.093270</td>\n",
       "      <td>-115.175966</td>\n",
       "      <td>2.0</td>\n",
       "      <td>57</td>\n",
       "      <td>1</td>\n",
       "      <td>{'BikeParking': 'False', 'BusinessParking': '{...</td>\n",
       "      <td>Restaurants, Cafes, Food, Internet Cafes, Coff...</td>\n",
       "      <td>{'Monday': '6:0-23:0', 'Tuesday': '6:0-23:0', ...</td>\n",
       "    </tr>\n",
       "    <tr>\n",
       "      <th>867</th>\n",
       "      <td>kUntNQ5P9IrRzEoHdRxV-w</td>\n",
       "      <td>Mark Rich's New York Pizza &amp; Pasta</td>\n",
       "      <td>7930 W Tropical Pkwy</td>\n",
       "      <td>Las Vegas</td>\n",
       "      <td>NV</td>\n",
       "      <td>89149</td>\n",
       "      <td>36.271037</td>\n",
       "      <td>-115.267937</td>\n",
       "      <td>3.0</td>\n",
       "      <td>103</td>\n",
       "      <td>0</td>\n",
       "      <td>{'RestaurantsReservations': 'False', 'Business...</td>\n",
       "      <td>Restaurants, Pizza</td>\n",
       "      <td>{'Monday': '11:0-21:0', 'Tuesday': '11:0-21:0'...</td>\n",
       "    </tr>\n",
       "    <tr>\n",
       "      <th>...</th>\n",
       "      <td>...</td>\n",
       "      <td>...</td>\n",
       "      <td>...</td>\n",
       "      <td>...</td>\n",
       "      <td>...</td>\n",
       "      <td>...</td>\n",
       "      <td>...</td>\n",
       "      <td>...</td>\n",
       "      <td>...</td>\n",
       "      <td>...</td>\n",
       "      <td>...</td>\n",
       "      <td>...</td>\n",
       "      <td>...</td>\n",
       "      <td>...</td>\n",
       "    </tr>\n",
       "    <tr>\n",
       "      <th>209086</th>\n",
       "      <td>RhV7sraRUB3km-gF-tmDow</td>\n",
       "      <td>Roberto's Taco Shop</td>\n",
       "      <td>1101 S Fort Apache Rd</td>\n",
       "      <td>Las Vegas</td>\n",
       "      <td>NV</td>\n",
       "      <td>89117</td>\n",
       "      <td>36.158356</td>\n",
       "      <td>-115.292372</td>\n",
       "      <td>3.0</td>\n",
       "      <td>72</td>\n",
       "      <td>1</td>\n",
       "      <td>{'RestaurantsPriceRange2': '1', 'BusinessAccep...</td>\n",
       "      <td>Restaurants, Mexican, Fast Food</td>\n",
       "      <td>None</td>\n",
       "    </tr>\n",
       "    <tr>\n",
       "      <th>209137</th>\n",
       "      <td>Nk8rRsl9u4GrbxEeEVsedg</td>\n",
       "      <td>Thai Cuisine 2</td>\n",
       "      <td>4420 E Charleston Blvd, Ste 5</td>\n",
       "      <td>Las Vegas</td>\n",
       "      <td>NV</td>\n",
       "      <td>89110</td>\n",
       "      <td>36.173634</td>\n",
       "      <td>-115.059814</td>\n",
       "      <td>2.5</td>\n",
       "      <td>3</td>\n",
       "      <td>0</td>\n",
       "      <td>{'OutdoorSeating': 'False', 'RestaurantsTakeOu...</td>\n",
       "      <td>Restaurants, Thai</td>\n",
       "      <td>None</td>\n",
       "    </tr>\n",
       "    <tr>\n",
       "      <th>209260</th>\n",
       "      <td>d4Mw96Hb6ZoHEL2AxqGrbg</td>\n",
       "      <td>Ice House America</td>\n",
       "      <td>1735 E Warm Springs Rd</td>\n",
       "      <td>Las Vegas</td>\n",
       "      <td>NV</td>\n",
       "      <td>89119</td>\n",
       "      <td>36.057189</td>\n",
       "      <td>-115.128511</td>\n",
       "      <td>5.0</td>\n",
       "      <td>4</td>\n",
       "      <td>1</td>\n",
       "      <td>{'RestaurantsGoodForGroups': 'True', 'Restaura...</td>\n",
       "      <td>Restaurants, Food, American (New), Local Services</td>\n",
       "      <td>None</td>\n",
       "    </tr>\n",
       "    <tr>\n",
       "      <th>209273</th>\n",
       "      <td>Q2pyp7Nb3cD4Br2BOnxUDA</td>\n",
       "      <td>Greek Delights</td>\n",
       "      <td>301 S MLK Blvd</td>\n",
       "      <td>Las Vegas</td>\n",
       "      <td>NV</td>\n",
       "      <td>89106</td>\n",
       "      <td>36.170901</td>\n",
       "      <td>-115.160635</td>\n",
       "      <td>4.0</td>\n",
       "      <td>28</td>\n",
       "      <td>0</td>\n",
       "      <td>{'WiFi': ''no'', 'RestaurantsPriceRange2': '2'...</td>\n",
       "      <td>Restaurants, Food Trucks, Greek, Food, Mediter...</td>\n",
       "      <td>{'Monday': '0:0-0:0', 'Tuesday': '11:0-19:0', ...</td>\n",
       "    </tr>\n",
       "    <tr>\n",
       "      <th>209372</th>\n",
       "      <td>wjZ12shpUWAy4Boy0G5z1g</td>\n",
       "      <td>Island Buffet</td>\n",
       "      <td>Tropicana Resort and Casino, 3801 Las Vegas Bl...</td>\n",
       "      <td>Las Vegas</td>\n",
       "      <td>NV</td>\n",
       "      <td>89109</td>\n",
       "      <td>36.099378</td>\n",
       "      <td>-115.171029</td>\n",
       "      <td>1.5</td>\n",
       "      <td>9</td>\n",
       "      <td>0</td>\n",
       "      <td>{'BusinessAcceptsCreditCards': 'True', 'Restau...</td>\n",
       "      <td>Restaurants, Buffets</td>\n",
       "      <td>None</td>\n",
       "    </tr>\n",
       "  </tbody>\n",
       "</table>\n",
       "<p>2008 rows × 14 columns</p>\n",
       "</div>"
      ],
      "text/plain": [
       "                   business_id                                name  \\\n",
       "238     AN0bWhisCf6LN9eHZ7DQ3w               Los Olivos Ristorante   \n",
       "246     AtD6B83S4Mbmq0t7iDnUVA                        Veggie House   \n",
       "364     ZsKWULhwwB61RHzCrb1i9A                 Blue Burrito Grille   \n",
       "450     c1JoHp602zilpDU_57DsMg                           Starbucks   \n",
       "867     kUntNQ5P9IrRzEoHdRxV-w  Mark Rich's New York Pizza & Pasta   \n",
       "...                        ...                                 ...   \n",
       "209086  RhV7sraRUB3km-gF-tmDow                 Roberto's Taco Shop   \n",
       "209137  Nk8rRsl9u4GrbxEeEVsedg                      Thai Cuisine 2   \n",
       "209260  d4Mw96Hb6ZoHEL2AxqGrbg                   Ice House America   \n",
       "209273  Q2pyp7Nb3cD4Br2BOnxUDA                      Greek Delights   \n",
       "209372  wjZ12shpUWAy4Boy0G5z1g                       Island Buffet   \n",
       "\n",
       "                                                  address       city state  \\\n",
       "238                                  3759 E Desert Inn Rd  Las Vegas    NV   \n",
       "246                      5115 Spring Mountain Rd, Ste 203  Las Vegas    NV   \n",
       "364                                5757 Wayne Newton Blvd  Las Vegas    NV   \n",
       "450                                3950 Las Vegas Blvd So  Las Vegas    NV   \n",
       "867                                  7930 W Tropical Pkwy  Las Vegas    NV   \n",
       "...                                                   ...        ...   ...   \n",
       "209086                              1101 S Fort Apache Rd  Las Vegas    NV   \n",
       "209137                      4420 E Charleston Blvd, Ste 5  Las Vegas    NV   \n",
       "209260                             1735 E Warm Springs Rd  Las Vegas    NV   \n",
       "209273                                     301 S MLK Blvd  Las Vegas    NV   \n",
       "209372  Tropicana Resort and Casino, 3801 Las Vegas Bl...  Las Vegas    NV   \n",
       "\n",
       "       postal_code   latitude   longitude  stars  review_count  is_open  \\\n",
       "238          89121  36.129178 -115.092483    5.0           222        1   \n",
       "246          89146  36.125569 -115.210911    4.5          1142        1   \n",
       "364          89119  36.080542 -115.146459    2.5            31        1   \n",
       "450          89119  36.093270 -115.175966    2.0            57        1   \n",
       "867          89149  36.271037 -115.267937    3.0           103        0   \n",
       "...            ...        ...         ...    ...           ...      ...   \n",
       "209086       89117  36.158356 -115.292372    3.0            72        1   \n",
       "209137       89110  36.173634 -115.059814    2.5             3        0   \n",
       "209260       89119  36.057189 -115.128511    5.0             4        1   \n",
       "209273       89106  36.170901 -115.160635    4.0            28        0   \n",
       "209372       89109  36.099378 -115.171029    1.5             9        0   \n",
       "\n",
       "                                               attributes  \\\n",
       "238     {'WiFi': 'u'free'', 'RestaurantsPriceRange2': ...   \n",
       "246     {'RestaurantsPriceRange2': '2', 'BikeParking':...   \n",
       "364     {'RestaurantsDelivery': 'False', 'GoodForKids'...   \n",
       "450     {'BikeParking': 'False', 'BusinessParking': '{...   \n",
       "867     {'RestaurantsReservations': 'False', 'Business...   \n",
       "...                                                   ...   \n",
       "209086  {'RestaurantsPriceRange2': '1', 'BusinessAccep...   \n",
       "209137  {'OutdoorSeating': 'False', 'RestaurantsTakeOu...   \n",
       "209260  {'RestaurantsGoodForGroups': 'True', 'Restaura...   \n",
       "209273  {'WiFi': ''no'', 'RestaurantsPriceRange2': '2'...   \n",
       "209372  {'BusinessAcceptsCreditCards': 'True', 'Restau...   \n",
       "\n",
       "                                               categories  \\\n",
       "238                                  Restaurants, Italian   \n",
       "246     Restaurants, Specialty Food, Japanese, Sushi B...   \n",
       "364                                  Restaurants, Mexican   \n",
       "450     Restaurants, Cafes, Food, Internet Cafes, Coff...   \n",
       "867                                    Restaurants, Pizza   \n",
       "...                                                   ...   \n",
       "209086                    Restaurants, Mexican, Fast Food   \n",
       "209137                                  Restaurants, Thai   \n",
       "209260  Restaurants, Food, American (New), Local Services   \n",
       "209273  Restaurants, Food Trucks, Greek, Food, Mediter...   \n",
       "209372                               Restaurants, Buffets   \n",
       "\n",
       "                                                    hours  \n",
       "238     {'Monday': '0:0-0:0', 'Tuesday': '16:0-21:0', ...  \n",
       "246     {'Monday': '11:30-21:30', 'Tuesday': '11:30-21...  \n",
       "364                                                  None  \n",
       "450     {'Monday': '6:0-23:0', 'Tuesday': '6:0-23:0', ...  \n",
       "867     {'Monday': '11:0-21:0', 'Tuesday': '11:0-21:0'...  \n",
       "...                                                   ...  \n",
       "209086                                               None  \n",
       "209137                                               None  \n",
       "209260                                               None  \n",
       "209273  {'Monday': '0:0-0:0', 'Tuesday': '11:0-19:0', ...  \n",
       "209372                                               None  \n",
       "\n",
       "[2008 rows x 14 columns]"
      ]
     },
     "execution_count": 8,
     "metadata": {},
     "output_type": "execute_result"
    }
   ],
   "source": [
    "lv_res = business[(business.city == 'Las Vegas') & (business.categories.str.match('Restaurants'))]\n",
    "lv_res"
   ]
  },
  {
   "cell_type": "markdown",
   "metadata": {},
   "source": [
    "Next, drop the columns irrelevant to sentiment analysis"
   ]
  },
  {
   "cell_type": "code",
   "execution_count": 35,
   "metadata": {},
   "outputs": [
    {
     "data": {
      "text/plain": [
       "Index(['business_id', 'name', 'address', 'city', 'state', 'postal_code',\n",
       "       'latitude', 'longitude', 'stars', 'review_count', 'is_open',\n",
       "       'attributes', 'categories', 'hours'],\n",
       "      dtype='object')"
      ]
     },
     "execution_count": 35,
     "metadata": {},
     "output_type": "execute_result"
    }
   ],
   "source": [
    "lv_res.columns"
   ]
  },
  {
   "cell_type": "markdown",
   "metadata": {},
   "source": [
    "hours: all NA; is_open only contains 9 values. Both are dropped because they give us minimal information.\n",
    "For geographic information, only postal_code is kept, for potentially investigating district differences."
   ]
  },
  {
   "cell_type": "code",
   "execution_count": 39,
   "metadata": {},
   "outputs": [
    {
     "data": {
      "text/plain": [
       "0    6\n",
       "1    3\n",
       "Name: is_open, dtype: int64"
      ]
     },
     "execution_count": 39,
     "metadata": {},
     "output_type": "execute_result"
    }
   ],
   "source": [
    "lv_res['is_open'].value_counts()"
   ]
  },
  {
   "cell_type": "code",
   "execution_count": 9,
   "metadata": {},
   "outputs": [],
   "source": [
    "lv_res = lv_res.drop(columns = ['address','city','state','latitude','longitude','is_open','categories',\n",
    "                                'hours'])"
   ]
  },
  {
   "cell_type": "code",
   "execution_count": 48,
   "metadata": {},
   "outputs": [],
   "source": [
    "#check new dataframe\n",
    "#lv_res.head()"
   ]
  },
  {
   "cell_type": "markdown",
   "metadata": {},
   "source": [
    "Save sliced dataframe to CSV for easier operations in the future"
   ]
  },
  {
   "cell_type": "code",
   "execution_count": null,
   "metadata": {},
   "outputs": [],
   "source": [
    "# Join business dataframe and review. \n",
    "# Using inner join, because we only want restaurants with reviews attached to them\n",
    "br_joined = df_left.merge(df_right, on=\"business_id\", how=\"inner\")\n",
    "\n",
    "# Reset index; return DataFrame to normal\n",
    "df_lv_joined = df_lv_joined.reset_index()"
   ]
  },
  {
   "cell_type": "markdown",
   "metadata": {},
   "source": [
    "## Load review dataset"
   ]
  },
  {
   "cell_type": "code",
   "execution_count": 3,
   "metadata": {},
   "outputs": [
    {
     "data": {
      "text/html": [
       "<div>\n",
       "<style scoped>\n",
       "    .dataframe tbody tr th:only-of-type {\n",
       "        vertical-align: middle;\n",
       "    }\n",
       "\n",
       "    .dataframe tbody tr th {\n",
       "        vertical-align: top;\n",
       "    }\n",
       "\n",
       "    .dataframe thead th {\n",
       "        text-align: right;\n",
       "    }\n",
       "</style>\n",
       "<table border=\"1\" class=\"dataframe\">\n",
       "  <thead>\n",
       "    <tr style=\"text-align: right;\">\n",
       "      <th></th>\n",
       "      <th>business_id</th>\n",
       "      <th>name</th>\n",
       "      <th>postal_code</th>\n",
       "      <th>stars_x</th>\n",
       "      <th>review_count</th>\n",
       "      <th>attributes</th>\n",
       "      <th>review_id</th>\n",
       "      <th>user_id</th>\n",
       "      <th>stars_y</th>\n",
       "      <th>useful</th>\n",
       "      <th>funny</th>\n",
       "      <th>cool</th>\n",
       "      <th>text</th>\n",
       "      <th>date</th>\n",
       "    </tr>\n",
       "  </thead>\n",
       "  <tbody>\n",
       "    <tr>\n",
       "      <th>0</th>\n",
       "      <td>AN0bWhisCf6LN9eHZ7DQ3w</td>\n",
       "      <td>Los Olivos Ristorante</td>\n",
       "      <td>89121.0</td>\n",
       "      <td>5.0</td>\n",
       "      <td>222</td>\n",
       "      <td>{'WiFi': \"u'free'\", 'RestaurantsPriceRange2': ...</td>\n",
       "      <td>htSvAB0GEPZOdvebmVqg4g</td>\n",
       "      <td>GgCjStvmclW9uedJa_tTlA</td>\n",
       "      <td>5.0</td>\n",
       "      <td>1</td>\n",
       "      <td>0</td>\n",
       "      <td>0</td>\n",
       "      <td>Very good restaurant, they have many choices a...</td>\n",
       "      <td>2018-09-03 02:54:29</td>\n",
       "    </tr>\n",
       "    <tr>\n",
       "      <th>1</th>\n",
       "      <td>AN0bWhisCf6LN9eHZ7DQ3w</td>\n",
       "      <td>Los Olivos Ristorante</td>\n",
       "      <td>89121.0</td>\n",
       "      <td>5.0</td>\n",
       "      <td>222</td>\n",
       "      <td>{'WiFi': \"u'free'\", 'RestaurantsPriceRange2': ...</td>\n",
       "      <td>yoXlN_RAJAVuhvR4lLs_nw</td>\n",
       "      <td>4CR7rQLHuXZpfLzDvqlaIA</td>\n",
       "      <td>5.0</td>\n",
       "      <td>0</td>\n",
       "      <td>1</td>\n",
       "      <td>1</td>\n",
       "      <td>Awsome little Italian place. Never would have ...</td>\n",
       "      <td>2018-06-19 17:20:53</td>\n",
       "    </tr>\n",
       "    <tr>\n",
       "      <th>2</th>\n",
       "      <td>AN0bWhisCf6LN9eHZ7DQ3w</td>\n",
       "      <td>Los Olivos Ristorante</td>\n",
       "      <td>89121.0</td>\n",
       "      <td>5.0</td>\n",
       "      <td>222</td>\n",
       "      <td>{'WiFi': \"u'free'\", 'RestaurantsPriceRange2': ...</td>\n",
       "      <td>sjGYJKxxNtKcFeZHwjfYLg</td>\n",
       "      <td>UkBp300T1dfvMK8BLq08qQ</td>\n",
       "      <td>5.0</td>\n",
       "      <td>0</td>\n",
       "      <td>0</td>\n",
       "      <td>0</td>\n",
       "      <td>We moved back to Vegas about a year ago and he...</td>\n",
       "      <td>2018-08-05 03:13:21</td>\n",
       "    </tr>\n",
       "    <tr>\n",
       "      <th>3</th>\n",
       "      <td>AN0bWhisCf6LN9eHZ7DQ3w</td>\n",
       "      <td>Los Olivos Ristorante</td>\n",
       "      <td>89121.0</td>\n",
       "      <td>5.0</td>\n",
       "      <td>222</td>\n",
       "      <td>{'WiFi': \"u'free'\", 'RestaurantsPriceRange2': ...</td>\n",
       "      <td>3ccPyWbmFfR8T-Ev3qQDcg</td>\n",
       "      <td>IyQGS915aIQcwPtSwKLI8w</td>\n",
       "      <td>5.0</td>\n",
       "      <td>0</td>\n",
       "      <td>0</td>\n",
       "      <td>0</td>\n",
       "      <td>We came to Los Olivos to have our Festa Di Nat...</td>\n",
       "      <td>2017-12-16 15:10:08</td>\n",
       "    </tr>\n",
       "    <tr>\n",
       "      <th>4</th>\n",
       "      <td>AN0bWhisCf6LN9eHZ7DQ3w</td>\n",
       "      <td>Los Olivos Ristorante</td>\n",
       "      <td>89121.0</td>\n",
       "      <td>5.0</td>\n",
       "      <td>222</td>\n",
       "      <td>{'WiFi': \"u'free'\", 'RestaurantsPriceRange2': ...</td>\n",
       "      <td>2lg2JofvDwl7zoRxJuZMmw</td>\n",
       "      <td>95RciOZdfdypm7DhNcn7cw</td>\n",
       "      <td>5.0</td>\n",
       "      <td>0</td>\n",
       "      <td>0</td>\n",
       "      <td>0</td>\n",
       "      <td>A hidden Gem! We enjoyed Albino's cooking seve...</td>\n",
       "      <td>2017-11-19 04:19:30</td>\n",
       "    </tr>\n",
       "  </tbody>\n",
       "</table>\n",
       "</div>"
      ],
      "text/plain": [
       "              business_id                   name  postal_code  stars_x  \\\n",
       "0  AN0bWhisCf6LN9eHZ7DQ3w  Los Olivos Ristorante      89121.0      5.0   \n",
       "1  AN0bWhisCf6LN9eHZ7DQ3w  Los Olivos Ristorante      89121.0      5.0   \n",
       "2  AN0bWhisCf6LN9eHZ7DQ3w  Los Olivos Ristorante      89121.0      5.0   \n",
       "3  AN0bWhisCf6LN9eHZ7DQ3w  Los Olivos Ristorante      89121.0      5.0   \n",
       "4  AN0bWhisCf6LN9eHZ7DQ3w  Los Olivos Ristorante      89121.0      5.0   \n",
       "\n",
       "   review_count                                         attributes  \\\n",
       "0           222  {'WiFi': \"u'free'\", 'RestaurantsPriceRange2': ...   \n",
       "1           222  {'WiFi': \"u'free'\", 'RestaurantsPriceRange2': ...   \n",
       "2           222  {'WiFi': \"u'free'\", 'RestaurantsPriceRange2': ...   \n",
       "3           222  {'WiFi': \"u'free'\", 'RestaurantsPriceRange2': ...   \n",
       "4           222  {'WiFi': \"u'free'\", 'RestaurantsPriceRange2': ...   \n",
       "\n",
       "                review_id                 user_id  stars_y  useful  funny  \\\n",
       "0  htSvAB0GEPZOdvebmVqg4g  GgCjStvmclW9uedJa_tTlA      5.0       1      0   \n",
       "1  yoXlN_RAJAVuhvR4lLs_nw  4CR7rQLHuXZpfLzDvqlaIA      5.0       0      1   \n",
       "2  sjGYJKxxNtKcFeZHwjfYLg  UkBp300T1dfvMK8BLq08qQ      5.0       0      0   \n",
       "3  3ccPyWbmFfR8T-Ev3qQDcg  IyQGS915aIQcwPtSwKLI8w      5.0       0      0   \n",
       "4  2lg2JofvDwl7zoRxJuZMmw  95RciOZdfdypm7DhNcn7cw      5.0       0      0   \n",
       "\n",
       "   cool                                               text  \\\n",
       "0     0  Very good restaurant, they have many choices a...   \n",
       "1     1  Awsome little Italian place. Never would have ...   \n",
       "2     0  We moved back to Vegas about a year ago and he...   \n",
       "3     0  We came to Los Olivos to have our Festa Di Nat...   \n",
       "4     0  A hidden Gem! We enjoyed Albino's cooking seve...   \n",
       "\n",
       "                  date  \n",
       "0  2018-09-03 02:54:29  \n",
       "1  2018-06-19 17:20:53  \n",
       "2  2018-08-05 03:13:21  \n",
       "3  2017-12-16 15:10:08  \n",
       "4  2017-11-19 04:19:30  "
      ]
     },
     "execution_count": 3,
     "metadata": {},
     "output_type": "execute_result"
    }
   ],
   "source": [
    "br = pd.read_csv('br_joined.csv')\n",
    "br.head()"
   ]
  },
  {
   "cell_type": "markdown",
   "metadata": {},
   "source": [
    "To speed up computer operations, only reviews from the most recent two years are kept"
   ]
  },
  {
   "cell_type": "code",
   "execution_count": 4,
   "metadata": {},
   "outputs": [
    {
     "data": {
      "text/plain": [
       "'2019-12-13 15:34:17'"
      ]
     },
     "execution_count": 4,
     "metadata": {},
     "output_type": "execute_result"
    }
   ],
   "source": [
    "#Find out time when the latest review was made\n",
    "br.date.max()"
   ]
  },
  {
   "cell_type": "code",
   "execution_count": 4,
   "metadata": {},
   "outputs": [
    {
     "data": {
      "text/plain": [
       "'2017-12-13 00:10:44'"
      ]
     },
     "execution_count": 4,
     "metadata": {},
     "output_type": "execute_result"
    }
   ],
   "source": [
    "#check whether slicing worked\n",
    "br = br.query(\"`date`>'2017-12-13'\")\n",
    "br.date.min()"
   ]
  },
  {
   "cell_type": "code",
   "execution_count": 5,
   "metadata": {},
   "outputs": [],
   "source": [
    "br.to_csv('data/preprocessed.csv')"
   ]
  }
 ],
 "metadata": {
  "kernelspec": {
   "display_name": "Python 3",
   "language": "python",
   "name": "python3"
  },
  "language_info": {
   "codemirror_mode": {
    "name": "ipython",
    "version": 3
   },
   "file_extension": ".py",
   "mimetype": "text/x-python",
   "name": "python",
   "nbconvert_exporter": "python",
   "pygments_lexer": "ipython3",
   "version": "3.8.5"
  }
 },
 "nbformat": 4,
 "nbformat_minor": 4
}
